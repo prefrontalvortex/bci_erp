{
 "cells": [
  {
   "cell_type": "code",
   "execution_count": 1,
   "metadata": {
    "collapsed": false
   },
   "outputs": [],
   "source": [
    "%matplotlib inline"
   ]
  },
  {
   "cell_type": "code",
   "execution_count": 2,
   "metadata": {
    "collapsed": false
   },
   "outputs": [],
   "source": [
    "import numpy as np, pandas as pd\n",
    "import matplotlib.pyplot as plt\n",
    "from scipy import signal\n",
    "import os\n",
    "import re\n",
    "from datetime import datetime\n",
    "import pytz"
   ]
  },
  {
   "cell_type": "code",
   "execution_count": 45,
   "metadata": {
    "collapsed": false
   },
   "outputs": [],
   "source": [
    "path_resp = '/home/mike/w/bci_erp/python/sampleData/run7/oddball_run_2017-02-04_16-03-55.txt'\n",
    "# path_2 = '/home/mike/w/bci_erp/python/sampleData/oddball_run_2017-02-04_13-02-08.txt'\n",
    "resp = pd.read_csv(path_resp, header=None)\n",
    "resp.columns = ['time', 'unixtime', 'resp', 'tone', 'ecode', 'label']\n",
    "resp['unixtime'] = pd.to_numeric(resp['unixtime'])"
   ]
  },
  {
   "cell_type": "code",
   "execution_count": 46,
   "metadata": {
    "collapsed": false
   },
   "outputs": [],
   "source": [
    "# pd.to_datetime(resp['unixtime']/1000, unit='s')"
   ]
  },
  {
   "cell_type": "code",
   "execution_count": 47,
   "metadata": {
    "collapsed": false
   },
   "outputs": [
    {
     "name": "stderr",
     "output_type": "stream",
     "text": [
      "/home/mike/ve/erp/lib/python3.5/site-packages/ipykernel/__main__.py:2: ParserWarning: Falling back to the 'python' engine because the 'c' engine does not support regex separators (separators > 1 char and different from '\\s+' are interpreted as regex); you can avoid this warning by specifying engine='python'.\n",
      "  from ipykernel import kernelapp as app\n"
     ]
    }
   ],
   "source": [
    "path_bci = '/home/mike/w/bci_erp/python/sampleData/run7/OpenBCI-RAW-2017-02-04_16-03-20.txt'\n",
    "bci = pd.read_csv(path_bci, sep=', ', skiprows=6, header=None)\n",
    "chan_columns = [str(i) for i in range(1,9)]\n",
    "bci.columns = ['ticks'] + chan_columns + ['a', 'b', 'c', 'unixtime']\n",
    "bci['unixtime'] = pd.to_numeric(bci['unixtime'])"
   ]
  },
  {
   "cell_type": "code",
   "execution_count": 48,
   "metadata": {
    "collapsed": false
   },
   "outputs": [
    {
     "data": {
      "text/plain": [
       "'OpenBCI-RAW-2017-02-04_16-03-20.txt'"
      ]
     },
     "execution_count": 48,
     "metadata": {},
     "output_type": "execute_result"
    }
   ],
   "source": [
    "fname = os.path.basename(path_bci)\n",
    "fname"
   ]
  },
  {
   "cell_type": "code",
   "execution_count": 49,
   "metadata": {
    "collapsed": true
   },
   "outputs": [],
   "source": [
    "datetime_re = r'[\\d]{4}-[\\d]{2}-[\\d]{2}_[\\d]{2}-[\\d]{2}-[\\d]{2}'\n",
    "datetime_fmt = '%Y-%m-%d_%H-%M-%S'"
   ]
  },
  {
   "cell_type": "code",
   "execution_count": 50,
   "metadata": {
    "collapsed": false
   },
   "outputs": [
    {
     "data": {
      "text/plain": [
       "'2017-02-04_16-03-20'"
      ]
     },
     "execution_count": 50,
     "metadata": {},
     "output_type": "execute_result"
    }
   ],
   "source": [
    "dt = re.findall(datetime_re, fname)[0]\n",
    "dt"
   ]
  },
  {
   "cell_type": "code",
   "execution_count": 51,
   "metadata": {
    "collapsed": false
   },
   "outputs": [
    {
     "data": {
      "text/plain": [
       "Timestamp('2017-02-04 16:03:20')"
      ]
     },
     "execution_count": 51,
     "metadata": {},
     "output_type": "execute_result"
    }
   ],
   "source": [
    "pt = pd.to_datetime(dt, format=datetime_fmt)\n",
    "pt"
   ]
  },
  {
   "cell_type": "code",
   "execution_count": 52,
   "metadata": {
    "collapsed": false
   },
   "outputs": [],
   "source": [
    "tz_est = pytz.timezone('EST')"
   ]
  },
  {
   "cell_type": "code",
   "execution_count": 53,
   "metadata": {
    "collapsed": false
   },
   "outputs": [
    {
     "data": {
      "text/plain": [
       "datetime.datetime(2017, 2, 4, 16, 3, 20)"
      ]
     },
     "execution_count": 53,
     "metadata": {},
     "output_type": "execute_result"
    }
   ],
   "source": [
    "pt = datetime.strptime(dt, datetime_fmt)\n",
    "pt"
   ]
  },
  {
   "cell_type": "code",
   "execution_count": 54,
   "metadata": {
    "collapsed": false
   },
   "outputs": [
    {
     "data": {
      "text/plain": [
       "datetime.datetime(2017, 2, 4, 16, 3, 20, tzinfo=<StaticTzInfo 'EST'>)"
      ]
     },
     "execution_count": 54,
     "metadata": {},
     "output_type": "execute_result"
    }
   ],
   "source": [
    "ptz = tz_est.localize(pt)\n",
    "ptz"
   ]
  },
  {
   "cell_type": "code",
   "execution_count": 55,
   "metadata": {
    "collapsed": false
   },
   "outputs": [
    {
     "data": {
      "text/plain": [
       "'1486242200'"
      ]
     },
     "execution_count": 55,
     "metadata": {},
     "output_type": "execute_result"
    }
   ],
   "source": [
    "unix_starttime = ptz.strftime('%s')\n",
    "unix_starttime"
   ]
  },
  {
   "cell_type": "code",
   "execution_count": 56,
   "metadata": {
    "collapsed": false
   },
   "outputs": [],
   "source": [
    "resp.sort_values('time', inplace=True)\n",
    "resp['datetime'] = pd.to_datetime(resp['unixtime']/1000, unit='s')"
   ]
  },
  {
   "cell_type": "code",
   "execution_count": 57,
   "metadata": {
    "collapsed": false
   },
   "outputs": [
    {
     "data": {
      "text/plain": [
       "time         2017-02-04T16:03:58-05:00\n",
       "unixtime                 1486242238724\n",
       "resp                                 0\n",
       "tone                                F4\n",
       "ecode                                2\n",
       "label                    stimulus_freq\n",
       "datetime    2017-02-04 21:03:58.724000\n",
       "Name: 0, dtype: object"
      ]
     },
     "execution_count": 57,
     "metadata": {},
     "output_type": "execute_result"
    }
   ],
   "source": [
    "resp.iloc[0]"
   ]
  },
  {
   "cell_type": "code",
   "execution_count": null,
   "metadata": {
    "collapsed": true
   },
   "outputs": [],
   "source": []
  },
  {
   "cell_type": "code",
   "execution_count": 58,
   "metadata": {
    "collapsed": false
   },
   "outputs": [
    {
     "data": {
      "text/plain": [
       "ticks       2.000000e+00\n",
       "1          -1.437020e+05\n",
       "2          -1.445974e+05\n",
       "3          -1.434945e+05\n",
       "4          -1.435554e+05\n",
       "5          -1.436519e+05\n",
       "6          -1.438108e+05\n",
       "7          -1.440611e+05\n",
       "8           5.469139e+04\n",
       "a           0.000000e+00\n",
       "b           0.000000e+00\n",
       "c           0.000000e+00\n",
       "unixtime    1.486242e+12\n",
       "Name: 0, dtype: float64"
      ]
     },
     "execution_count": 58,
     "metadata": {},
     "output_type": "execute_result"
    }
   ],
   "source": [
    "bci.iloc[0]"
   ]
  },
  {
   "cell_type": "code",
   "execution_count": 59,
   "metadata": {
    "collapsed": false
   },
   "outputs": [
    {
     "data": {
      "text/plain": [
       "Timestamp('2017-02-04 21:03:58.724000')"
      ]
     },
     "execution_count": 59,
     "metadata": {},
     "output_type": "execute_result"
    }
   ],
   "source": [
    "pd.to_datetime(resp['unixtime'][0]/1000, unit='s')"
   ]
  },
  {
   "cell_type": "code",
   "execution_count": 60,
   "metadata": {
    "collapsed": false
   },
   "outputs": [
    {
     "data": {
      "text/plain": [
       "Timestamp('2017-02-04 21:03:42.861000')"
      ]
     },
     "execution_count": 60,
     "metadata": {},
     "output_type": "execute_result"
    }
   ],
   "source": [
    "pd.to_datetime(bci['unixtime'][0]/1000, unit='s')"
   ]
  },
  {
   "cell_type": "code",
   "execution_count": 61,
   "metadata": {
    "collapsed": false
   },
   "outputs": [],
   "source": [
    "# I have no idea how this is infering the date from the time alone. Probably will break tomorrow\n",
    "# bci['time2'] = pd.to_datetime(bci['time'], infer_datetime_format=True)\n",
    "# bci['time3'] = pd.to_numeric(bci['time2']) *1e-6 # to ms"
   ]
  },
  {
   "cell_type": "code",
   "execution_count": 62,
   "metadata": {
    "collapsed": false
   },
   "outputs": [
    {
     "data": {
      "text/plain": [
       "1486242222861"
      ]
     },
     "execution_count": 62,
     "metadata": {},
     "output_type": "execute_result"
    }
   ],
   "source": [
    "bci['unixtime'][0]"
   ]
  },
  {
   "cell_type": "code",
   "execution_count": 63,
   "metadata": {
    "collapsed": false
   },
   "outputs": [
    {
     "name": "stdout",
     "output_type": "stream",
     "text": [
      "1.48624222286e+12 1486242238724 15863.0 15.863\n"
     ]
    }
   ],
   "source": [
    "t0 = bci.loc[0, 'unixtime'] \n",
    "t0r = resp.loc[0, 'unixtime']\n",
    "delta_ms = t0r-t0\n",
    "print(t0, t0r, delta_ms, delta_ms/1000)"
   ]
  },
  {
   "cell_type": "code",
   "execution_count": 64,
   "metadata": {
    "collapsed": false
   },
   "outputs": [
    {
     "data": {
      "text/html": [
       "<div>\n",
       "<table border=\"1\" class=\"dataframe\">\n",
       "  <thead>\n",
       "    <tr style=\"text-align: right;\">\n",
       "      <th></th>\n",
       "      <th>ticks</th>\n",
       "      <th>1</th>\n",
       "      <th>2</th>\n",
       "      <th>3</th>\n",
       "      <th>4</th>\n",
       "      <th>5</th>\n",
       "      <th>6</th>\n",
       "      <th>7</th>\n",
       "      <th>8</th>\n",
       "      <th>a</th>\n",
       "      <th>b</th>\n",
       "      <th>c</th>\n",
       "      <th>unixtime</th>\n",
       "    </tr>\n",
       "  </thead>\n",
       "  <tbody>\n",
       "    <tr>\n",
       "      <th>0</th>\n",
       "      <td>2</td>\n",
       "      <td>-143702.00</td>\n",
       "      <td>-144597.41</td>\n",
       "      <td>-143494.47</td>\n",
       "      <td>-143555.39</td>\n",
       "      <td>-143651.89</td>\n",
       "      <td>-143810.83</td>\n",
       "      <td>-144061.09</td>\n",
       "      <td>54691.39</td>\n",
       "      <td>0.00</td>\n",
       "      <td>0.00</td>\n",
       "      <td>0.00</td>\n",
       "      <td>1486242222861</td>\n",
       "    </tr>\n",
       "    <tr>\n",
       "      <th>1</th>\n",
       "      <td>3</td>\n",
       "      <td>-143699.61</td>\n",
       "      <td>-144570.11</td>\n",
       "      <td>-143490.61</td>\n",
       "      <td>-143546.75</td>\n",
       "      <td>-143643.91</td>\n",
       "      <td>-143770.34</td>\n",
       "      <td>-144037.83</td>\n",
       "      <td>54700.50</td>\n",
       "      <td>0.00</td>\n",
       "      <td>0.00</td>\n",
       "      <td>0.00</td>\n",
       "      <td>1486242222865</td>\n",
       "    </tr>\n",
       "    <tr>\n",
       "      <th>2</th>\n",
       "      <td>4</td>\n",
       "      <td>-143684.34</td>\n",
       "      <td>-144560.89</td>\n",
       "      <td>-143490.94</td>\n",
       "      <td>-143544.84</td>\n",
       "      <td>-143640.48</td>\n",
       "      <td>-143746.03</td>\n",
       "      <td>-144031.58</td>\n",
       "      <td>54693.00</td>\n",
       "      <td>0.00</td>\n",
       "      <td>0.00</td>\n",
       "      <td>0.00</td>\n",
       "      <td>1486242222869</td>\n",
       "    </tr>\n",
       "    <tr>\n",
       "      <th>3</th>\n",
       "      <td>5</td>\n",
       "      <td>-143694.48</td>\n",
       "      <td>-144550.11</td>\n",
       "      <td>-143495.80</td>\n",
       "      <td>-143549.41</td>\n",
       "      <td>-143648.59</td>\n",
       "      <td>-143782.86</td>\n",
       "      <td>-144028.48</td>\n",
       "      <td>54691.34</td>\n",
       "      <td>0.00</td>\n",
       "      <td>0.00</td>\n",
       "      <td>0.00</td>\n",
       "      <td>1486242222872</td>\n",
       "    </tr>\n",
       "    <tr>\n",
       "      <th>4</th>\n",
       "      <td>6</td>\n",
       "      <td>-143715.25</td>\n",
       "      <td>-144511.67</td>\n",
       "      <td>-143497.17</td>\n",
       "      <td>-143565.45</td>\n",
       "      <td>-143652.00</td>\n",
       "      <td>-143840.11</td>\n",
       "      <td>-144114.47</td>\n",
       "      <td>54722.48</td>\n",
       "      <td>0.00</td>\n",
       "      <td>0.00</td>\n",
       "      <td>0.00</td>\n",
       "      <td>1486242222877</td>\n",
       "    </tr>\n",
       "    <tr>\n",
       "      <th>5</th>\n",
       "      <td>7</td>\n",
       "      <td>-143698.27</td>\n",
       "      <td>-144474.20</td>\n",
       "      <td>-143493.75</td>\n",
       "      <td>-143550.83</td>\n",
       "      <td>-143644.17</td>\n",
       "      <td>-143816.17</td>\n",
       "      <td>-144195.05</td>\n",
       "      <td>54748.63</td>\n",
       "      <td>0.02</td>\n",
       "      <td>-0.02</td>\n",
       "      <td>1.03</td>\n",
       "      <td>1486242222882</td>\n",
       "    </tr>\n",
       "    <tr>\n",
       "      <th>6</th>\n",
       "      <td>8</td>\n",
       "      <td>-143681.92</td>\n",
       "      <td>-144458.05</td>\n",
       "      <td>-143489.48</td>\n",
       "      <td>-143535.59</td>\n",
       "      <td>-143629.75</td>\n",
       "      <td>-143744.00</td>\n",
       "      <td>-144187.91</td>\n",
       "      <td>54748.83</td>\n",
       "      <td>0.00</td>\n",
       "      <td>0.00</td>\n",
       "      <td>0.00</td>\n",
       "      <td>1486242222885</td>\n",
       "    </tr>\n",
       "    <tr>\n",
       "      <th>7</th>\n",
       "      <td>9</td>\n",
       "      <td>-143681.13</td>\n",
       "      <td>-144449.97</td>\n",
       "      <td>-143494.22</td>\n",
       "      <td>-143540.13</td>\n",
       "      <td>-143631.80</td>\n",
       "      <td>-143748.91</td>\n",
       "      <td>-144183.08</td>\n",
       "      <td>54739.82</td>\n",
       "      <td>0.00</td>\n",
       "      <td>0.00</td>\n",
       "      <td>0.00</td>\n",
       "      <td>1486242222889</td>\n",
       "    </tr>\n",
       "    <tr>\n",
       "      <th>8</th>\n",
       "      <td>10</td>\n",
       "      <td>-143691.69</td>\n",
       "      <td>-144429.30</td>\n",
       "      <td>-143489.67</td>\n",
       "      <td>-143542.09</td>\n",
       "      <td>-143635.81</td>\n",
       "      <td>-143787.69</td>\n",
       "      <td>-144164.75</td>\n",
       "      <td>54745.07</td>\n",
       "      <td>0.00</td>\n",
       "      <td>0.00</td>\n",
       "      <td>0.00</td>\n",
       "      <td>1486242222893</td>\n",
       "    </tr>\n",
       "    <tr>\n",
       "      <th>9</th>\n",
       "      <td>11</td>\n",
       "      <td>-143694.94</td>\n",
       "      <td>-144399.55</td>\n",
       "      <td>-143489.45</td>\n",
       "      <td>-143545.69</td>\n",
       "      <td>-143635.80</td>\n",
       "      <td>-143792.88</td>\n",
       "      <td>-144138.39</td>\n",
       "      <td>54758.93</td>\n",
       "      <td>0.00</td>\n",
       "      <td>0.00</td>\n",
       "      <td>0.00</td>\n",
       "      <td>1486242222896</td>\n",
       "    </tr>\n",
       "    <tr>\n",
       "      <th>10</th>\n",
       "      <td>12</td>\n",
       "      <td>-143677.44</td>\n",
       "      <td>-144383.97</td>\n",
       "      <td>-143486.44</td>\n",
       "      <td>-143531.75</td>\n",
       "      <td>-143625.02</td>\n",
       "      <td>-143747.66</td>\n",
       "      <td>-144126.86</td>\n",
       "      <td>54758.93</td>\n",
       "      <td>0.00</td>\n",
       "      <td>0.00</td>\n",
       "      <td>0.00</td>\n",
       "      <td>1486242222900</td>\n",
       "    </tr>\n",
       "    <tr>\n",
       "      <th>11</th>\n",
       "      <td>13</td>\n",
       "      <td>-143676.38</td>\n",
       "      <td>-144378.05</td>\n",
       "      <td>-143486.55</td>\n",
       "      <td>-143535.52</td>\n",
       "      <td>-143625.33</td>\n",
       "      <td>-143733.14</td>\n",
       "      <td>-144124.73</td>\n",
       "      <td>54749.66</td>\n",
       "      <td>0.00</td>\n",
       "      <td>0.00</td>\n",
       "      <td>0.00</td>\n",
       "      <td>1486242222904</td>\n",
       "    </tr>\n",
       "    <tr>\n",
       "      <th>12</th>\n",
       "      <td>14</td>\n",
       "      <td>-143695.11</td>\n",
       "      <td>-144358.42</td>\n",
       "      <td>-143493.45</td>\n",
       "      <td>-143544.22</td>\n",
       "      <td>-143638.91</td>\n",
       "      <td>-143791.03</td>\n",
       "      <td>-144107.97</td>\n",
       "      <td>54754.46</td>\n",
       "      <td>0.00</td>\n",
       "      <td>0.00</td>\n",
       "      <td>0.00</td>\n",
       "      <td>1486242222908</td>\n",
       "    </tr>\n",
       "    <tr>\n",
       "      <th>13</th>\n",
       "      <td>15</td>\n",
       "      <td>-143699.72</td>\n",
       "      <td>-144326.80</td>\n",
       "      <td>-143492.06</td>\n",
       "      <td>-143546.47</td>\n",
       "      <td>-143644.73</td>\n",
       "      <td>-143821.33</td>\n",
       "      <td>-144079.50</td>\n",
       "      <td>54769.73</td>\n",
       "      <td>0.00</td>\n",
       "      <td>0.00</td>\n",
       "      <td>0.00</td>\n",
       "      <td>1486242222914</td>\n",
       "    </tr>\n",
       "    <tr>\n",
       "      <th>14</th>\n",
       "      <td>16</td>\n",
       "      <td>-143682.22</td>\n",
       "      <td>-144305.73</td>\n",
       "      <td>-143488.83</td>\n",
       "      <td>-143536.02</td>\n",
       "      <td>-143628.22</td>\n",
       "      <td>-143752.16</td>\n",
       "      <td>-144061.33</td>\n",
       "      <td>54775.25</td>\n",
       "      <td>0.00</td>\n",
       "      <td>0.00</td>\n",
       "      <td>0.00</td>\n",
       "      <td>1486242222918</td>\n",
       "    </tr>\n",
       "    <tr>\n",
       "      <th>15</th>\n",
       "      <td>17</td>\n",
       "      <td>-143675.13</td>\n",
       "      <td>-144299.86</td>\n",
       "      <td>-143486.66</td>\n",
       "      <td>-143534.94</td>\n",
       "      <td>-143622.61</td>\n",
       "      <td>-143721.75</td>\n",
       "      <td>-144058.38</td>\n",
       "      <td>54767.36</td>\n",
       "      <td>0.01</td>\n",
       "      <td>-0.02</td>\n",
       "      <td>1.03</td>\n",
       "      <td>1486242222921</td>\n",
       "    </tr>\n",
       "    <tr>\n",
       "      <th>16</th>\n",
       "      <td>18</td>\n",
       "      <td>-143689.17</td>\n",
       "      <td>-144284.06</td>\n",
       "      <td>-143488.97</td>\n",
       "      <td>-143541.17</td>\n",
       "      <td>-143634.67</td>\n",
       "      <td>-143778.31</td>\n",
       "      <td>-144045.56</td>\n",
       "      <td>54768.61</td>\n",
       "      <td>0.00</td>\n",
       "      <td>0.00</td>\n",
       "      <td>0.00</td>\n",
       "      <td>1486242222925</td>\n",
       "    </tr>\n",
       "    <tr>\n",
       "      <th>17</th>\n",
       "      <td>19</td>\n",
       "      <td>-143702.28</td>\n",
       "      <td>-144250.00</td>\n",
       "      <td>-143489.52</td>\n",
       "      <td>-143545.17</td>\n",
       "      <td>-143639.44</td>\n",
       "      <td>-143820.66</td>\n",
       "      <td>-144031.94</td>\n",
       "      <td>54789.69</td>\n",
       "      <td>0.00</td>\n",
       "      <td>0.00</td>\n",
       "      <td>0.00</td>\n",
       "      <td>1486242222928</td>\n",
       "    </tr>\n",
       "    <tr>\n",
       "      <th>18</th>\n",
       "      <td>20</td>\n",
       "      <td>-143694.23</td>\n",
       "      <td>-144216.41</td>\n",
       "      <td>-143491.63</td>\n",
       "      <td>-143540.80</td>\n",
       "      <td>-143638.88</td>\n",
       "      <td>-143798.20</td>\n",
       "      <td>-144146.50</td>\n",
       "      <td>54817.16</td>\n",
       "      <td>0.00</td>\n",
       "      <td>0.00</td>\n",
       "      <td>0.00</td>\n",
       "      <td>1486242222932</td>\n",
       "    </tr>\n",
       "    <tr>\n",
       "      <th>19</th>\n",
       "      <td>21</td>\n",
       "      <td>-143676.61</td>\n",
       "      <td>-144204.64</td>\n",
       "      <td>-143484.97</td>\n",
       "      <td>-143525.64</td>\n",
       "      <td>-143626.81</td>\n",
       "      <td>-143737.09</td>\n",
       "      <td>-144208.11</td>\n",
       "      <td>54815.19</td>\n",
       "      <td>0.00</td>\n",
       "      <td>0.00</td>\n",
       "      <td>0.00</td>\n",
       "      <td>1486242222936</td>\n",
       "    </tr>\n",
       "    <tr>\n",
       "      <th>20</th>\n",
       "      <td>22</td>\n",
       "      <td>-143678.44</td>\n",
       "      <td>-144191.56</td>\n",
       "      <td>-143482.92</td>\n",
       "      <td>-143533.73</td>\n",
       "      <td>-143632.39</td>\n",
       "      <td>-143756.78</td>\n",
       "      <td>-144198.97</td>\n",
       "      <td>54812.04</td>\n",
       "      <td>0.00</td>\n",
       "      <td>0.00</td>\n",
       "      <td>0.00</td>\n",
       "      <td>1486242222941</td>\n",
       "    </tr>\n",
       "    <tr>\n",
       "      <th>21</th>\n",
       "      <td>23</td>\n",
       "      <td>-143688.91</td>\n",
       "      <td>-144161.97</td>\n",
       "      <td>-143485.83</td>\n",
       "      <td>-143542.61</td>\n",
       "      <td>-143631.55</td>\n",
       "      <td>-143790.47</td>\n",
       "      <td>-144173.47</td>\n",
       "      <td>54823.80</td>\n",
       "      <td>0.00</td>\n",
       "      <td>0.00</td>\n",
       "      <td>0.00</td>\n",
       "      <td>1486242222945</td>\n",
       "    </tr>\n",
       "    <tr>\n",
       "      <th>22</th>\n",
       "      <td>24</td>\n",
       "      <td>-143675.36</td>\n",
       "      <td>-144135.86</td>\n",
       "      <td>-143477.41</td>\n",
       "      <td>-143526.48</td>\n",
       "      <td>-143620.19</td>\n",
       "      <td>-143759.17</td>\n",
       "      <td>-144150.91</td>\n",
       "      <td>54833.43</td>\n",
       "      <td>0.00</td>\n",
       "      <td>0.00</td>\n",
       "      <td>0.00</td>\n",
       "      <td>1486242222948</td>\n",
       "    </tr>\n",
       "    <tr>\n",
       "      <th>23</th>\n",
       "      <td>25</td>\n",
       "      <td>-143666.39</td>\n",
       "      <td>-144126.48</td>\n",
       "      <td>-143475.48</td>\n",
       "      <td>-143527.83</td>\n",
       "      <td>-143622.11</td>\n",
       "      <td>-143735.61</td>\n",
       "      <td>-144143.98</td>\n",
       "      <td>54826.32</td>\n",
       "      <td>0.00</td>\n",
       "      <td>0.00</td>\n",
       "      <td>0.00</td>\n",
       "      <td>1486242222953</td>\n",
       "    </tr>\n",
       "    <tr>\n",
       "      <th>24</th>\n",
       "      <td>26</td>\n",
       "      <td>-143670.28</td>\n",
       "      <td>-144115.92</td>\n",
       "      <td>-143481.03</td>\n",
       "      <td>-143530.17</td>\n",
       "      <td>-143619.55</td>\n",
       "      <td>-143729.47</td>\n",
       "      <td>-144136.81</td>\n",
       "      <td>54819.62</td>\n",
       "      <td>0.00</td>\n",
       "      <td>0.00</td>\n",
       "      <td>0.00</td>\n",
       "      <td>1486242222956</td>\n",
       "    </tr>\n",
       "    <tr>\n",
       "      <th>25</th>\n",
       "      <td>27</td>\n",
       "      <td>-143684.03</td>\n",
       "      <td>-144089.38</td>\n",
       "      <td>-143477.55</td>\n",
       "      <td>-143531.13</td>\n",
       "      <td>-143633.78</td>\n",
       "      <td>-143791.22</td>\n",
       "      <td>-144113.83</td>\n",
       "      <td>54829.99</td>\n",
       "      <td>0.02</td>\n",
       "      <td>-0.01</td>\n",
       "      <td>1.03</td>\n",
       "      <td>1486242222960</td>\n",
       "    </tr>\n",
       "    <tr>\n",
       "      <th>26</th>\n",
       "      <td>28</td>\n",
       "      <td>-143673.31</td>\n",
       "      <td>-144063.77</td>\n",
       "      <td>-143473.52</td>\n",
       "      <td>-143526.11</td>\n",
       "      <td>-143623.19</td>\n",
       "      <td>-143763.02</td>\n",
       "      <td>-144091.81</td>\n",
       "      <td>54841.55</td>\n",
       "      <td>0.00</td>\n",
       "      <td>0.00</td>\n",
       "      <td>0.00</td>\n",
       "      <td>1486242222964</td>\n",
       "    </tr>\n",
       "    <tr>\n",
       "      <th>27</th>\n",
       "      <td>29</td>\n",
       "      <td>-143667.22</td>\n",
       "      <td>-144053.59</td>\n",
       "      <td>-143474.34</td>\n",
       "      <td>-143525.00</td>\n",
       "      <td>-143614.80</td>\n",
       "      <td>-143717.63</td>\n",
       "      <td>-144084.55</td>\n",
       "      <td>54838.30</td>\n",
       "      <td>0.00</td>\n",
       "      <td>0.00</td>\n",
       "      <td>0.00</td>\n",
       "      <td>1486242222970</td>\n",
       "    </tr>\n",
       "    <tr>\n",
       "      <th>28</th>\n",
       "      <td>30</td>\n",
       "      <td>-143667.33</td>\n",
       "      <td>-144045.52</td>\n",
       "      <td>-143477.09</td>\n",
       "      <td>-143528.50</td>\n",
       "      <td>-143616.03</td>\n",
       "      <td>-143735.30</td>\n",
       "      <td>-144079.41</td>\n",
       "      <td>54831.13</td>\n",
       "      <td>0.00</td>\n",
       "      <td>0.00</td>\n",
       "      <td>0.00</td>\n",
       "      <td>1486242222974</td>\n",
       "    </tr>\n",
       "    <tr>\n",
       "      <th>29</th>\n",
       "      <td>31</td>\n",
       "      <td>-143682.31</td>\n",
       "      <td>-144020.47</td>\n",
       "      <td>-143478.91</td>\n",
       "      <td>-143529.53</td>\n",
       "      <td>-143626.69</td>\n",
       "      <td>-143786.36</td>\n",
       "      <td>-144057.25</td>\n",
       "      <td>54840.81</td>\n",
       "      <td>0.00</td>\n",
       "      <td>0.00</td>\n",
       "      <td>0.00</td>\n",
       "      <td>1486242222976</td>\n",
       "    </tr>\n",
       "    <tr>\n",
       "      <th>...</th>\n",
       "      <td>...</td>\n",
       "      <td>...</td>\n",
       "      <td>...</td>\n",
       "      <td>...</td>\n",
       "      <td>...</td>\n",
       "      <td>...</td>\n",
       "      <td>...</td>\n",
       "      <td>...</td>\n",
       "      <td>...</td>\n",
       "      <td>...</td>\n",
       "      <td>...</td>\n",
       "      <td>...</td>\n",
       "      <td>...</td>\n",
       "    </tr>\n",
       "    <tr>\n",
       "      <th>13500</th>\n",
       "      <td>190</td>\n",
       "      <td>-148260.86</td>\n",
       "      <td>-148300.78</td>\n",
       "      <td>-148359.28</td>\n",
       "      <td>-148411.63</td>\n",
       "      <td>-148429.41</td>\n",
       "      <td>-148323.56</td>\n",
       "      <td>-148456.42</td>\n",
       "      <td>168948.88</td>\n",
       "      <td>0.00</td>\n",
       "      <td>0.00</td>\n",
       "      <td>0.00</td>\n",
       "      <td>1486242276805</td>\n",
       "    </tr>\n",
       "    <tr>\n",
       "      <th>13501</th>\n",
       "      <td>191</td>\n",
       "      <td>-148264.13</td>\n",
       "      <td>-148304.05</td>\n",
       "      <td>-148362.52</td>\n",
       "      <td>-148414.91</td>\n",
       "      <td>-148432.70</td>\n",
       "      <td>-148326.81</td>\n",
       "      <td>-148459.72</td>\n",
       "      <td>168951.89</td>\n",
       "      <td>0.00</td>\n",
       "      <td>0.00</td>\n",
       "      <td>0.00</td>\n",
       "      <td>1486242276809</td>\n",
       "    </tr>\n",
       "    <tr>\n",
       "      <th>13502</th>\n",
       "      <td>192</td>\n",
       "      <td>-148267.08</td>\n",
       "      <td>-148306.88</td>\n",
       "      <td>-148365.42</td>\n",
       "      <td>-148417.86</td>\n",
       "      <td>-148435.63</td>\n",
       "      <td>-148329.75</td>\n",
       "      <td>-148462.58</td>\n",
       "      <td>168955.47</td>\n",
       "      <td>0.02</td>\n",
       "      <td>-0.01</td>\n",
       "      <td>1.04</td>\n",
       "      <td>1486242276813</td>\n",
       "    </tr>\n",
       "    <tr>\n",
       "      <th>13503</th>\n",
       "      <td>193</td>\n",
       "      <td>-148267.66</td>\n",
       "      <td>-148307.44</td>\n",
       "      <td>-148365.89</td>\n",
       "      <td>-148418.34</td>\n",
       "      <td>-148436.13</td>\n",
       "      <td>-148330.23</td>\n",
       "      <td>-148463.23</td>\n",
       "      <td>168956.73</td>\n",
       "      <td>0.00</td>\n",
       "      <td>0.00</td>\n",
       "      <td>0.00</td>\n",
       "      <td>1486242276818</td>\n",
       "    </tr>\n",
       "    <tr>\n",
       "      <th>13504</th>\n",
       "      <td>194</td>\n",
       "      <td>-148271.39</td>\n",
       "      <td>-148311.17</td>\n",
       "      <td>-148369.58</td>\n",
       "      <td>-148422.03</td>\n",
       "      <td>-148439.81</td>\n",
       "      <td>-148333.97</td>\n",
       "      <td>-148466.94</td>\n",
       "      <td>168960.16</td>\n",
       "      <td>0.00</td>\n",
       "      <td>0.00</td>\n",
       "      <td>0.00</td>\n",
       "      <td>1486242276820</td>\n",
       "    </tr>\n",
       "    <tr>\n",
       "      <th>13505</th>\n",
       "      <td>195</td>\n",
       "      <td>-148276.53</td>\n",
       "      <td>-148316.31</td>\n",
       "      <td>-148374.81</td>\n",
       "      <td>-148427.25</td>\n",
       "      <td>-148444.92</td>\n",
       "      <td>-148339.14</td>\n",
       "      <td>-148472.06</td>\n",
       "      <td>168964.83</td>\n",
       "      <td>0.00</td>\n",
       "      <td>0.00</td>\n",
       "      <td>0.00</td>\n",
       "      <td>1486242276825</td>\n",
       "    </tr>\n",
       "    <tr>\n",
       "      <th>13506</th>\n",
       "      <td>196</td>\n",
       "      <td>-148279.09</td>\n",
       "      <td>-148318.92</td>\n",
       "      <td>-148377.42</td>\n",
       "      <td>-148429.91</td>\n",
       "      <td>-148447.50</td>\n",
       "      <td>-148341.73</td>\n",
       "      <td>-148474.63</td>\n",
       "      <td>168967.72</td>\n",
       "      <td>0.00</td>\n",
       "      <td>0.00</td>\n",
       "      <td>0.00</td>\n",
       "      <td>1486242276830</td>\n",
       "    </tr>\n",
       "    <tr>\n",
       "      <th>13507</th>\n",
       "      <td>197</td>\n",
       "      <td>-148278.09</td>\n",
       "      <td>-148317.88</td>\n",
       "      <td>-148376.42</td>\n",
       "      <td>-148428.83</td>\n",
       "      <td>-148446.47</td>\n",
       "      <td>-148340.78</td>\n",
       "      <td>-148473.63</td>\n",
       "      <td>168967.33</td>\n",
       "      <td>0.00</td>\n",
       "      <td>0.00</td>\n",
       "      <td>0.00</td>\n",
       "      <td>1486242276834</td>\n",
       "    </tr>\n",
       "    <tr>\n",
       "      <th>13508</th>\n",
       "      <td>198</td>\n",
       "      <td>-148279.92</td>\n",
       "      <td>-148319.63</td>\n",
       "      <td>-148378.27</td>\n",
       "      <td>-148430.64</td>\n",
       "      <td>-148448.33</td>\n",
       "      <td>-148342.64</td>\n",
       "      <td>-148475.34</td>\n",
       "      <td>168968.97</td>\n",
       "      <td>0.00</td>\n",
       "      <td>0.00</td>\n",
       "      <td>0.00</td>\n",
       "      <td>1486242276837</td>\n",
       "    </tr>\n",
       "    <tr>\n",
       "      <th>13509</th>\n",
       "      <td>199</td>\n",
       "      <td>-148283.09</td>\n",
       "      <td>-148322.84</td>\n",
       "      <td>-148381.41</td>\n",
       "      <td>-148433.77</td>\n",
       "      <td>-148451.50</td>\n",
       "      <td>-148345.70</td>\n",
       "      <td>-148478.44</td>\n",
       "      <td>168971.73</td>\n",
       "      <td>0.00</td>\n",
       "      <td>0.00</td>\n",
       "      <td>0.00</td>\n",
       "      <td>1486242276841</td>\n",
       "    </tr>\n",
       "    <tr>\n",
       "      <th>13510</th>\n",
       "      <td>200</td>\n",
       "      <td>-148284.64</td>\n",
       "      <td>-148324.42</td>\n",
       "      <td>-148382.94</td>\n",
       "      <td>-148435.41</td>\n",
       "      <td>-148453.11</td>\n",
       "      <td>-148347.25</td>\n",
       "      <td>-148480.05</td>\n",
       "      <td>168973.66</td>\n",
       "      <td>0.00</td>\n",
       "      <td>0.00</td>\n",
       "      <td>0.00</td>\n",
       "      <td>1486242276845</td>\n",
       "    </tr>\n",
       "    <tr>\n",
       "      <th>13511</th>\n",
       "      <td>201</td>\n",
       "      <td>-148285.98</td>\n",
       "      <td>-148325.75</td>\n",
       "      <td>-148384.42</td>\n",
       "      <td>-148436.77</td>\n",
       "      <td>-148454.52</td>\n",
       "      <td>-148348.59</td>\n",
       "      <td>-148481.38</td>\n",
       "      <td>168975.81</td>\n",
       "      <td>0.00</td>\n",
       "      <td>0.00</td>\n",
       "      <td>0.00</td>\n",
       "      <td>1486242276849</td>\n",
       "    </tr>\n",
       "    <tr>\n",
       "      <th>13512</th>\n",
       "      <td>202</td>\n",
       "      <td>-148289.67</td>\n",
       "      <td>-148329.39</td>\n",
       "      <td>-148388.00</td>\n",
       "      <td>-148440.34</td>\n",
       "      <td>-148458.20</td>\n",
       "      <td>-148352.25</td>\n",
       "      <td>-148485.16</td>\n",
       "      <td>168979.61</td>\n",
       "      <td>0.02</td>\n",
       "      <td>-0.02</td>\n",
       "      <td>1.04</td>\n",
       "      <td>1486242276853</td>\n",
       "    </tr>\n",
       "    <tr>\n",
       "      <th>13513</th>\n",
       "      <td>203</td>\n",
       "      <td>-148293.14</td>\n",
       "      <td>-148332.92</td>\n",
       "      <td>-148391.48</td>\n",
       "      <td>-148443.88</td>\n",
       "      <td>-148461.64</td>\n",
       "      <td>-148355.83</td>\n",
       "      <td>-148488.67</td>\n",
       "      <td>168982.52</td>\n",
       "      <td>0.00</td>\n",
       "      <td>0.00</td>\n",
       "      <td>0.00</td>\n",
       "      <td>1486242276858</td>\n",
       "    </tr>\n",
       "    <tr>\n",
       "      <th>13514</th>\n",
       "      <td>204</td>\n",
       "      <td>-148296.33</td>\n",
       "      <td>-148336.09</td>\n",
       "      <td>-148394.66</td>\n",
       "      <td>-148447.00</td>\n",
       "      <td>-148464.75</td>\n",
       "      <td>-148358.95</td>\n",
       "      <td>-148491.84</td>\n",
       "      <td>168985.64</td>\n",
       "      <td>0.00</td>\n",
       "      <td>0.00</td>\n",
       "      <td>0.00</td>\n",
       "      <td>1486242276861</td>\n",
       "    </tr>\n",
       "    <tr>\n",
       "      <th>13515</th>\n",
       "      <td>205</td>\n",
       "      <td>-148296.91</td>\n",
       "      <td>-148336.66</td>\n",
       "      <td>-148395.22</td>\n",
       "      <td>-148447.50</td>\n",
       "      <td>-148465.44</td>\n",
       "      <td>-148359.45</td>\n",
       "      <td>-148492.33</td>\n",
       "      <td>168987.03</td>\n",
       "      <td>0.00</td>\n",
       "      <td>0.00</td>\n",
       "      <td>0.00</td>\n",
       "      <td>1486242276865</td>\n",
       "    </tr>\n",
       "    <tr>\n",
       "      <th>13516</th>\n",
       "      <td>206</td>\n",
       "      <td>-148300.11</td>\n",
       "      <td>-148339.92</td>\n",
       "      <td>-148398.41</td>\n",
       "      <td>-148450.78</td>\n",
       "      <td>-148468.58</td>\n",
       "      <td>-148362.73</td>\n",
       "      <td>-148495.53</td>\n",
       "      <td>168990.45</td>\n",
       "      <td>0.00</td>\n",
       "      <td>0.00</td>\n",
       "      <td>0.00</td>\n",
       "      <td>1486242276869</td>\n",
       "    </tr>\n",
       "    <tr>\n",
       "      <th>13517</th>\n",
       "      <td>207</td>\n",
       "      <td>-148304.06</td>\n",
       "      <td>-148343.84</td>\n",
       "      <td>-148402.33</td>\n",
       "      <td>-148454.84</td>\n",
       "      <td>-148472.42</td>\n",
       "      <td>-148366.72</td>\n",
       "      <td>-148499.52</td>\n",
       "      <td>168993.86</td>\n",
       "      <td>0.00</td>\n",
       "      <td>0.00</td>\n",
       "      <td>0.00</td>\n",
       "      <td>1486242276874</td>\n",
       "    </tr>\n",
       "    <tr>\n",
       "      <th>13518</th>\n",
       "      <td>208</td>\n",
       "      <td>-148305.89</td>\n",
       "      <td>-148345.64</td>\n",
       "      <td>-148404.09</td>\n",
       "      <td>-148456.64</td>\n",
       "      <td>-148474.28</td>\n",
       "      <td>-148368.50</td>\n",
       "      <td>-148501.31</td>\n",
       "      <td>168995.75</td>\n",
       "      <td>0.00</td>\n",
       "      <td>0.00</td>\n",
       "      <td>0.00</td>\n",
       "      <td>1486242276876</td>\n",
       "    </tr>\n",
       "    <tr>\n",
       "      <th>13519</th>\n",
       "      <td>209</td>\n",
       "      <td>-148305.94</td>\n",
       "      <td>-148345.77</td>\n",
       "      <td>-148404.20</td>\n",
       "      <td>-148456.80</td>\n",
       "      <td>-148474.34</td>\n",
       "      <td>-148368.64</td>\n",
       "      <td>-148501.44</td>\n",
       "      <td>168996.61</td>\n",
       "      <td>0.00</td>\n",
       "      <td>0.00</td>\n",
       "      <td>0.00</td>\n",
       "      <td>1486242276880</td>\n",
       "    </tr>\n",
       "    <tr>\n",
       "      <th>13520</th>\n",
       "      <td>210</td>\n",
       "      <td>-148307.75</td>\n",
       "      <td>-148347.55</td>\n",
       "      <td>-148405.94</td>\n",
       "      <td>-148458.50</td>\n",
       "      <td>-148476.08</td>\n",
       "      <td>-148370.41</td>\n",
       "      <td>-148503.13</td>\n",
       "      <td>168998.73</td>\n",
       "      <td>0.00</td>\n",
       "      <td>0.00</td>\n",
       "      <td>0.00</td>\n",
       "      <td>1486242276886</td>\n",
       "    </tr>\n",
       "    <tr>\n",
       "      <th>13521</th>\n",
       "      <td>211</td>\n",
       "      <td>-148311.16</td>\n",
       "      <td>-148350.92</td>\n",
       "      <td>-148409.30</td>\n",
       "      <td>-148461.83</td>\n",
       "      <td>-148479.48</td>\n",
       "      <td>-148373.73</td>\n",
       "      <td>-148506.48</td>\n",
       "      <td>169001.58</td>\n",
       "      <td>0.00</td>\n",
       "      <td>0.00</td>\n",
       "      <td>0.00</td>\n",
       "      <td>1486242276890</td>\n",
       "    </tr>\n",
       "    <tr>\n",
       "      <th>13522</th>\n",
       "      <td>212</td>\n",
       "      <td>-148315.47</td>\n",
       "      <td>-148355.25</td>\n",
       "      <td>-148413.61</td>\n",
       "      <td>-148466.14</td>\n",
       "      <td>-148483.77</td>\n",
       "      <td>-148378.05</td>\n",
       "      <td>-148510.81</td>\n",
       "      <td>169005.58</td>\n",
       "      <td>0.02</td>\n",
       "      <td>-0.01</td>\n",
       "      <td>1.04</td>\n",
       "      <td>1486242276894</td>\n",
       "    </tr>\n",
       "    <tr>\n",
       "      <th>13523</th>\n",
       "      <td>213</td>\n",
       "      <td>-148316.38</td>\n",
       "      <td>-148356.14</td>\n",
       "      <td>-148414.55</td>\n",
       "      <td>-148466.98</td>\n",
       "      <td>-148484.56</td>\n",
       "      <td>-148378.97</td>\n",
       "      <td>-148511.75</td>\n",
       "      <td>169007.05</td>\n",
       "      <td>0.00</td>\n",
       "      <td>0.00</td>\n",
       "      <td>0.00</td>\n",
       "      <td>1486242276896</td>\n",
       "    </tr>\n",
       "    <tr>\n",
       "      <th>13524</th>\n",
       "      <td>214</td>\n",
       "      <td>-148316.69</td>\n",
       "      <td>-148356.39</td>\n",
       "      <td>-148414.77</td>\n",
       "      <td>-148467.30</td>\n",
       "      <td>-148484.83</td>\n",
       "      <td>-148379.17</td>\n",
       "      <td>-148512.00</td>\n",
       "      <td>169007.77</td>\n",
       "      <td>0.00</td>\n",
       "      <td>0.00</td>\n",
       "      <td>0.00</td>\n",
       "      <td>1486242276901</td>\n",
       "    </tr>\n",
       "    <tr>\n",
       "      <th>13525</th>\n",
       "      <td>215</td>\n",
       "      <td>-148319.64</td>\n",
       "      <td>-148359.50</td>\n",
       "      <td>-148417.83</td>\n",
       "      <td>-148470.36</td>\n",
       "      <td>-148488.00</td>\n",
       "      <td>-148382.23</td>\n",
       "      <td>-148515.06</td>\n",
       "      <td>169010.50</td>\n",
       "      <td>0.00</td>\n",
       "      <td>0.00</td>\n",
       "      <td>0.00</td>\n",
       "      <td>1486242276905</td>\n",
       "    </tr>\n",
       "    <tr>\n",
       "      <th>13526</th>\n",
       "      <td>216</td>\n",
       "      <td>-148323.73</td>\n",
       "      <td>-148363.61</td>\n",
       "      <td>-148422.03</td>\n",
       "      <td>-148474.55</td>\n",
       "      <td>-148492.17</td>\n",
       "      <td>-148386.45</td>\n",
       "      <td>-148519.11</td>\n",
       "      <td>169014.41</td>\n",
       "      <td>0.00</td>\n",
       "      <td>0.00</td>\n",
       "      <td>0.00</td>\n",
       "      <td>1486242276908</td>\n",
       "    </tr>\n",
       "    <tr>\n",
       "      <th>13527</th>\n",
       "      <td>217</td>\n",
       "      <td>-148326.31</td>\n",
       "      <td>-148366.16</td>\n",
       "      <td>-148424.56</td>\n",
       "      <td>-148477.17</td>\n",
       "      <td>-148494.72</td>\n",
       "      <td>-148389.06</td>\n",
       "      <td>-148521.64</td>\n",
       "      <td>169017.47</td>\n",
       "      <td>0.00</td>\n",
       "      <td>0.00</td>\n",
       "      <td>0.00</td>\n",
       "      <td>1486242276913</td>\n",
       "    </tr>\n",
       "    <tr>\n",
       "      <th>13528</th>\n",
       "      <td>218</td>\n",
       "      <td>-148326.94</td>\n",
       "      <td>-148366.88</td>\n",
       "      <td>-148425.23</td>\n",
       "      <td>-148477.81</td>\n",
       "      <td>-148495.38</td>\n",
       "      <td>-148389.73</td>\n",
       "      <td>-148522.36</td>\n",
       "      <td>169018.70</td>\n",
       "      <td>0.00</td>\n",
       "      <td>0.00</td>\n",
       "      <td>0.00</td>\n",
       "      <td>1486242276917</td>\n",
       "    </tr>\n",
       "    <tr>\n",
       "      <th>13529</th>\n",
       "      <td>219</td>\n",
       "      <td>-148328.16</td>\n",
       "      <td>-148367.98</td>\n",
       "      <td>-148426.44</td>\n",
       "      <td>-148478.97</td>\n",
       "      <td>-148496.52</td>\n",
       "      <td>-148390.86</td>\n",
       "      <td>-148523.52</td>\n",
       "      <td>169019.50</td>\n",
       "      <td>0.00</td>\n",
       "      <td>0.00</td>\n",
       "      <td>0.00</td>\n",
       "      <td>1486242276921</td>\n",
       "    </tr>\n",
       "  </tbody>\n",
       "</table>\n",
       "<p>13530 rows × 13 columns</p>\n",
       "</div>"
      ],
      "text/plain": [
       "       ticks          1          2          3          4          5  \\\n",
       "0          2 -143702.00 -144597.41 -143494.47 -143555.39 -143651.89   \n",
       "1          3 -143699.61 -144570.11 -143490.61 -143546.75 -143643.91   \n",
       "2          4 -143684.34 -144560.89 -143490.94 -143544.84 -143640.48   \n",
       "3          5 -143694.48 -144550.11 -143495.80 -143549.41 -143648.59   \n",
       "4          6 -143715.25 -144511.67 -143497.17 -143565.45 -143652.00   \n",
       "5          7 -143698.27 -144474.20 -143493.75 -143550.83 -143644.17   \n",
       "6          8 -143681.92 -144458.05 -143489.48 -143535.59 -143629.75   \n",
       "7          9 -143681.13 -144449.97 -143494.22 -143540.13 -143631.80   \n",
       "8         10 -143691.69 -144429.30 -143489.67 -143542.09 -143635.81   \n",
       "9         11 -143694.94 -144399.55 -143489.45 -143545.69 -143635.80   \n",
       "10        12 -143677.44 -144383.97 -143486.44 -143531.75 -143625.02   \n",
       "11        13 -143676.38 -144378.05 -143486.55 -143535.52 -143625.33   \n",
       "12        14 -143695.11 -144358.42 -143493.45 -143544.22 -143638.91   \n",
       "13        15 -143699.72 -144326.80 -143492.06 -143546.47 -143644.73   \n",
       "14        16 -143682.22 -144305.73 -143488.83 -143536.02 -143628.22   \n",
       "15        17 -143675.13 -144299.86 -143486.66 -143534.94 -143622.61   \n",
       "16        18 -143689.17 -144284.06 -143488.97 -143541.17 -143634.67   \n",
       "17        19 -143702.28 -144250.00 -143489.52 -143545.17 -143639.44   \n",
       "18        20 -143694.23 -144216.41 -143491.63 -143540.80 -143638.88   \n",
       "19        21 -143676.61 -144204.64 -143484.97 -143525.64 -143626.81   \n",
       "20        22 -143678.44 -144191.56 -143482.92 -143533.73 -143632.39   \n",
       "21        23 -143688.91 -144161.97 -143485.83 -143542.61 -143631.55   \n",
       "22        24 -143675.36 -144135.86 -143477.41 -143526.48 -143620.19   \n",
       "23        25 -143666.39 -144126.48 -143475.48 -143527.83 -143622.11   \n",
       "24        26 -143670.28 -144115.92 -143481.03 -143530.17 -143619.55   \n",
       "25        27 -143684.03 -144089.38 -143477.55 -143531.13 -143633.78   \n",
       "26        28 -143673.31 -144063.77 -143473.52 -143526.11 -143623.19   \n",
       "27        29 -143667.22 -144053.59 -143474.34 -143525.00 -143614.80   \n",
       "28        30 -143667.33 -144045.52 -143477.09 -143528.50 -143616.03   \n",
       "29        31 -143682.31 -144020.47 -143478.91 -143529.53 -143626.69   \n",
       "...      ...        ...        ...        ...        ...        ...   \n",
       "13500    190 -148260.86 -148300.78 -148359.28 -148411.63 -148429.41   \n",
       "13501    191 -148264.13 -148304.05 -148362.52 -148414.91 -148432.70   \n",
       "13502    192 -148267.08 -148306.88 -148365.42 -148417.86 -148435.63   \n",
       "13503    193 -148267.66 -148307.44 -148365.89 -148418.34 -148436.13   \n",
       "13504    194 -148271.39 -148311.17 -148369.58 -148422.03 -148439.81   \n",
       "13505    195 -148276.53 -148316.31 -148374.81 -148427.25 -148444.92   \n",
       "13506    196 -148279.09 -148318.92 -148377.42 -148429.91 -148447.50   \n",
       "13507    197 -148278.09 -148317.88 -148376.42 -148428.83 -148446.47   \n",
       "13508    198 -148279.92 -148319.63 -148378.27 -148430.64 -148448.33   \n",
       "13509    199 -148283.09 -148322.84 -148381.41 -148433.77 -148451.50   \n",
       "13510    200 -148284.64 -148324.42 -148382.94 -148435.41 -148453.11   \n",
       "13511    201 -148285.98 -148325.75 -148384.42 -148436.77 -148454.52   \n",
       "13512    202 -148289.67 -148329.39 -148388.00 -148440.34 -148458.20   \n",
       "13513    203 -148293.14 -148332.92 -148391.48 -148443.88 -148461.64   \n",
       "13514    204 -148296.33 -148336.09 -148394.66 -148447.00 -148464.75   \n",
       "13515    205 -148296.91 -148336.66 -148395.22 -148447.50 -148465.44   \n",
       "13516    206 -148300.11 -148339.92 -148398.41 -148450.78 -148468.58   \n",
       "13517    207 -148304.06 -148343.84 -148402.33 -148454.84 -148472.42   \n",
       "13518    208 -148305.89 -148345.64 -148404.09 -148456.64 -148474.28   \n",
       "13519    209 -148305.94 -148345.77 -148404.20 -148456.80 -148474.34   \n",
       "13520    210 -148307.75 -148347.55 -148405.94 -148458.50 -148476.08   \n",
       "13521    211 -148311.16 -148350.92 -148409.30 -148461.83 -148479.48   \n",
       "13522    212 -148315.47 -148355.25 -148413.61 -148466.14 -148483.77   \n",
       "13523    213 -148316.38 -148356.14 -148414.55 -148466.98 -148484.56   \n",
       "13524    214 -148316.69 -148356.39 -148414.77 -148467.30 -148484.83   \n",
       "13525    215 -148319.64 -148359.50 -148417.83 -148470.36 -148488.00   \n",
       "13526    216 -148323.73 -148363.61 -148422.03 -148474.55 -148492.17   \n",
       "13527    217 -148326.31 -148366.16 -148424.56 -148477.17 -148494.72   \n",
       "13528    218 -148326.94 -148366.88 -148425.23 -148477.81 -148495.38   \n",
       "13529    219 -148328.16 -148367.98 -148426.44 -148478.97 -148496.52   \n",
       "\n",
       "               6          7          8     a     b     c       unixtime  \n",
       "0     -143810.83 -144061.09   54691.39  0.00  0.00  0.00  1486242222861  \n",
       "1     -143770.34 -144037.83   54700.50  0.00  0.00  0.00  1486242222865  \n",
       "2     -143746.03 -144031.58   54693.00  0.00  0.00  0.00  1486242222869  \n",
       "3     -143782.86 -144028.48   54691.34  0.00  0.00  0.00  1486242222872  \n",
       "4     -143840.11 -144114.47   54722.48  0.00  0.00  0.00  1486242222877  \n",
       "5     -143816.17 -144195.05   54748.63  0.02 -0.02  1.03  1486242222882  \n",
       "6     -143744.00 -144187.91   54748.83  0.00  0.00  0.00  1486242222885  \n",
       "7     -143748.91 -144183.08   54739.82  0.00  0.00  0.00  1486242222889  \n",
       "8     -143787.69 -144164.75   54745.07  0.00  0.00  0.00  1486242222893  \n",
       "9     -143792.88 -144138.39   54758.93  0.00  0.00  0.00  1486242222896  \n",
       "10    -143747.66 -144126.86   54758.93  0.00  0.00  0.00  1486242222900  \n",
       "11    -143733.14 -144124.73   54749.66  0.00  0.00  0.00  1486242222904  \n",
       "12    -143791.03 -144107.97   54754.46  0.00  0.00  0.00  1486242222908  \n",
       "13    -143821.33 -144079.50   54769.73  0.00  0.00  0.00  1486242222914  \n",
       "14    -143752.16 -144061.33   54775.25  0.00  0.00  0.00  1486242222918  \n",
       "15    -143721.75 -144058.38   54767.36  0.01 -0.02  1.03  1486242222921  \n",
       "16    -143778.31 -144045.56   54768.61  0.00  0.00  0.00  1486242222925  \n",
       "17    -143820.66 -144031.94   54789.69  0.00  0.00  0.00  1486242222928  \n",
       "18    -143798.20 -144146.50   54817.16  0.00  0.00  0.00  1486242222932  \n",
       "19    -143737.09 -144208.11   54815.19  0.00  0.00  0.00  1486242222936  \n",
       "20    -143756.78 -144198.97   54812.04  0.00  0.00  0.00  1486242222941  \n",
       "21    -143790.47 -144173.47   54823.80  0.00  0.00  0.00  1486242222945  \n",
       "22    -143759.17 -144150.91   54833.43  0.00  0.00  0.00  1486242222948  \n",
       "23    -143735.61 -144143.98   54826.32  0.00  0.00  0.00  1486242222953  \n",
       "24    -143729.47 -144136.81   54819.62  0.00  0.00  0.00  1486242222956  \n",
       "25    -143791.22 -144113.83   54829.99  0.02 -0.01  1.03  1486242222960  \n",
       "26    -143763.02 -144091.81   54841.55  0.00  0.00  0.00  1486242222964  \n",
       "27    -143717.63 -144084.55   54838.30  0.00  0.00  0.00  1486242222970  \n",
       "28    -143735.30 -144079.41   54831.13  0.00  0.00  0.00  1486242222974  \n",
       "29    -143786.36 -144057.25   54840.81  0.00  0.00  0.00  1486242222976  \n",
       "...          ...        ...        ...   ...   ...   ...            ...  \n",
       "13500 -148323.56 -148456.42  168948.88  0.00  0.00  0.00  1486242276805  \n",
       "13501 -148326.81 -148459.72  168951.89  0.00  0.00  0.00  1486242276809  \n",
       "13502 -148329.75 -148462.58  168955.47  0.02 -0.01  1.04  1486242276813  \n",
       "13503 -148330.23 -148463.23  168956.73  0.00  0.00  0.00  1486242276818  \n",
       "13504 -148333.97 -148466.94  168960.16  0.00  0.00  0.00  1486242276820  \n",
       "13505 -148339.14 -148472.06  168964.83  0.00  0.00  0.00  1486242276825  \n",
       "13506 -148341.73 -148474.63  168967.72  0.00  0.00  0.00  1486242276830  \n",
       "13507 -148340.78 -148473.63  168967.33  0.00  0.00  0.00  1486242276834  \n",
       "13508 -148342.64 -148475.34  168968.97  0.00  0.00  0.00  1486242276837  \n",
       "13509 -148345.70 -148478.44  168971.73  0.00  0.00  0.00  1486242276841  \n",
       "13510 -148347.25 -148480.05  168973.66  0.00  0.00  0.00  1486242276845  \n",
       "13511 -148348.59 -148481.38  168975.81  0.00  0.00  0.00  1486242276849  \n",
       "13512 -148352.25 -148485.16  168979.61  0.02 -0.02  1.04  1486242276853  \n",
       "13513 -148355.83 -148488.67  168982.52  0.00  0.00  0.00  1486242276858  \n",
       "13514 -148358.95 -148491.84  168985.64  0.00  0.00  0.00  1486242276861  \n",
       "13515 -148359.45 -148492.33  168987.03  0.00  0.00  0.00  1486242276865  \n",
       "13516 -148362.73 -148495.53  168990.45  0.00  0.00  0.00  1486242276869  \n",
       "13517 -148366.72 -148499.52  168993.86  0.00  0.00  0.00  1486242276874  \n",
       "13518 -148368.50 -148501.31  168995.75  0.00  0.00  0.00  1486242276876  \n",
       "13519 -148368.64 -148501.44  168996.61  0.00  0.00  0.00  1486242276880  \n",
       "13520 -148370.41 -148503.13  168998.73  0.00  0.00  0.00  1486242276886  \n",
       "13521 -148373.73 -148506.48  169001.58  0.00  0.00  0.00  1486242276890  \n",
       "13522 -148378.05 -148510.81  169005.58  0.02 -0.01  1.04  1486242276894  \n",
       "13523 -148378.97 -148511.75  169007.05  0.00  0.00  0.00  1486242276896  \n",
       "13524 -148379.17 -148512.00  169007.77  0.00  0.00  0.00  1486242276901  \n",
       "13525 -148382.23 -148515.06  169010.50  0.00  0.00  0.00  1486242276905  \n",
       "13526 -148386.45 -148519.11  169014.41  0.00  0.00  0.00  1486242276908  \n",
       "13527 -148389.06 -148521.64  169017.47  0.00  0.00  0.00  1486242276913  \n",
       "13528 -148389.73 -148522.36  169018.70  0.00  0.00  0.00  1486242276917  \n",
       "13529 -148390.86 -148523.52  169019.50  0.00  0.00  0.00  1486242276921  \n",
       "\n",
       "[13530 rows x 13 columns]"
      ]
     },
     "execution_count": 64,
     "metadata": {},
     "output_type": "execute_result"
    }
   ],
   "source": [
    "bci"
   ]
  },
  {
   "cell_type": "code",
   "execution_count": 66,
   "metadata": {
    "collapsed": false
   },
   "outputs": [],
   "source": [
    "# tmid_bci = bci.loc[len(bci) // 2, 'time']\n",
    "# tmid_resp = resp.loc[len(resp) // 2, 'time']\n",
    "# delta_t = tmid_resp-tmid_bci\n",
    "# print(tmid_bci, tmid_resp, delta_t, t0)\n",
    "\n",
    "resp['latency'] = resp['unixtime'] - t0 \n",
    "bci['latency'] = bci['unixtime'] - t0"
   ]
  },
  {
   "cell_type": "code",
   "execution_count": 67,
   "metadata": {
    "collapsed": false
   },
   "outputs": [],
   "source": [
    "tonef = resp['tone'].replace({'F4':1, 'G5':2, 'F4': 0})\n",
    "resp['tonef'] = pd.Series(tonef, dtype='float64')\n",
    "# resp['tonef'].dtype"
   ]
  },
  {
   "cell_type": "code",
   "execution_count": 68,
   "metadata": {
    "collapsed": false
   },
   "outputs": [
    {
     "data": {
      "text/plain": [
       "time                object\n",
       "unixtime             int64\n",
       "resp                 int64\n",
       "tone                object\n",
       "ecode                int64\n",
       "label               object\n",
       "datetime    datetime64[ns]\n",
       "latency            float64\n",
       "tonef              float64\n",
       "dtype: object"
      ]
     },
     "execution_count": 68,
     "metadata": {},
     "output_type": "execute_result"
    }
   ],
   "source": [
    "resp.dtypes"
   ]
  },
  {
   "cell_type": "code",
   "execution_count": 69,
   "metadata": {
    "collapsed": false
   },
   "outputs": [
    {
     "data": {
      "text/html": [
       "<div>\n",
       "<table border=\"1\" class=\"dataframe\">\n",
       "  <thead>\n",
       "    <tr style=\"text-align: right;\">\n",
       "      <th></th>\n",
       "      <th>time</th>\n",
       "      <th>unixtime</th>\n",
       "      <th>resp</th>\n",
       "      <th>tone</th>\n",
       "      <th>ecode</th>\n",
       "      <th>label</th>\n",
       "      <th>datetime</th>\n",
       "      <th>latency</th>\n",
       "      <th>tonef</th>\n",
       "    </tr>\n",
       "  </thead>\n",
       "  <tbody>\n",
       "    <tr>\n",
       "      <th>0</th>\n",
       "      <td>2017-02-04T16:03:58-05:00</td>\n",
       "      <td>1486242238724</td>\n",
       "      <td>0</td>\n",
       "      <td>F4</td>\n",
       "      <td>2</td>\n",
       "      <td>stimulus_freq</td>\n",
       "      <td>2017-02-04 21:03:58.724</td>\n",
       "      <td>15863.0</td>\n",
       "      <td>0.0</td>\n",
       "    </tr>\n",
       "    <tr>\n",
       "      <th>17</th>\n",
       "      <td>2017-02-04T16:03:59-05:00</td>\n",
       "      <td>1486242239251</td>\n",
       "      <td>1</td>\n",
       "      <td>0</td>\n",
       "      <td>32</td>\n",
       "      <td>response_freq</td>\n",
       "      <td>2017-02-04 21:03:59.251</td>\n",
       "      <td>16390.0</td>\n",
       "      <td>0.0</td>\n",
       "    </tr>\n",
       "    <tr>\n",
       "      <th>1</th>\n",
       "      <td>2017-02-04T16:04:00-05:00</td>\n",
       "      <td>1486242240915</td>\n",
       "      <td>0</td>\n",
       "      <td>F4</td>\n",
       "      <td>2</td>\n",
       "      <td>stimulus_freq</td>\n",
       "      <td>2017-02-04 21:04:00.915</td>\n",
       "      <td>18054.0</td>\n",
       "      <td>0.0</td>\n",
       "    </tr>\n",
       "    <tr>\n",
       "      <th>18</th>\n",
       "      <td>2017-02-04T16:04:01-05:00</td>\n",
       "      <td>1486242241406</td>\n",
       "      <td>1</td>\n",
       "      <td>0</td>\n",
       "      <td>32</td>\n",
       "      <td>response_freq</td>\n",
       "      <td>2017-02-04 21:04:01.406</td>\n",
       "      <td>18545.0</td>\n",
       "      <td>0.0</td>\n",
       "    </tr>\n",
       "    <tr>\n",
       "      <th>2</th>\n",
       "      <td>2017-02-04T16:04:02-05:00</td>\n",
       "      <td>1486242242883</td>\n",
       "      <td>0</td>\n",
       "      <td>F4</td>\n",
       "      <td>2</td>\n",
       "      <td>stimulus_freq</td>\n",
       "      <td>2017-02-04 21:04:02.883</td>\n",
       "      <td>20022.0</td>\n",
       "      <td>0.0</td>\n",
       "    </tr>\n",
       "    <tr>\n",
       "      <th>19</th>\n",
       "      <td>2017-02-04T16:04:03-05:00</td>\n",
       "      <td>1486242243344</td>\n",
       "      <td>1</td>\n",
       "      <td>0</td>\n",
       "      <td>32</td>\n",
       "      <td>response_freq</td>\n",
       "      <td>2017-02-04 21:04:03.344</td>\n",
       "      <td>20483.0</td>\n",
       "      <td>0.0</td>\n",
       "    </tr>\n",
       "    <tr>\n",
       "      <th>3</th>\n",
       "      <td>2017-02-04T16:04:04-05:00</td>\n",
       "      <td>1486242244966</td>\n",
       "      <td>0</td>\n",
       "      <td>F4</td>\n",
       "      <td>2</td>\n",
       "      <td>stimulus_freq</td>\n",
       "      <td>2017-02-04 21:04:04.966</td>\n",
       "      <td>22105.0</td>\n",
       "      <td>0.0</td>\n",
       "    </tr>\n",
       "    <tr>\n",
       "      <th>20</th>\n",
       "      <td>2017-02-04T16:04:05-05:00</td>\n",
       "      <td>1486242245340</td>\n",
       "      <td>1</td>\n",
       "      <td>0</td>\n",
       "      <td>32</td>\n",
       "      <td>response_freq</td>\n",
       "      <td>2017-02-04 21:04:05.340</td>\n",
       "      <td>22479.0</td>\n",
       "      <td>0.0</td>\n",
       "    </tr>\n",
       "    <tr>\n",
       "      <th>21</th>\n",
       "      <td>2017-02-04T16:04:07-05:00</td>\n",
       "      <td>1486242247621</td>\n",
       "      <td>1</td>\n",
       "      <td>0</td>\n",
       "      <td>32</td>\n",
       "      <td>response_freq</td>\n",
       "      <td>2017-02-04 21:04:07.621</td>\n",
       "      <td>24760.0</td>\n",
       "      <td>0.0</td>\n",
       "    </tr>\n",
       "    <tr>\n",
       "      <th>4</th>\n",
       "      <td>2017-02-04T16:04:07-05:00</td>\n",
       "      <td>1486242247164</td>\n",
       "      <td>0</td>\n",
       "      <td>F4</td>\n",
       "      <td>2</td>\n",
       "      <td>stimulus_freq</td>\n",
       "      <td>2017-02-04 21:04:07.164</td>\n",
       "      <td>24303.0</td>\n",
       "      <td>0.0</td>\n",
       "    </tr>\n",
       "    <tr>\n",
       "      <th>22</th>\n",
       "      <td>2017-02-04T16:04:09-05:00</td>\n",
       "      <td>1486242249671</td>\n",
       "      <td>2</td>\n",
       "      <td>0</td>\n",
       "      <td>64</td>\n",
       "      <td>response_infreq</td>\n",
       "      <td>2017-02-04 21:04:09.671</td>\n",
       "      <td>26810.0</td>\n",
       "      <td>0.0</td>\n",
       "    </tr>\n",
       "    <tr>\n",
       "      <th>5</th>\n",
       "      <td>2017-02-04T16:04:09-05:00</td>\n",
       "      <td>1486242249170</td>\n",
       "      <td>0</td>\n",
       "      <td>G5</td>\n",
       "      <td>4</td>\n",
       "      <td>stimulus_infreq</td>\n",
       "      <td>2017-02-04 21:04:09.170</td>\n",
       "      <td>26309.0</td>\n",
       "      <td>2.0</td>\n",
       "    </tr>\n",
       "    <tr>\n",
       "      <th>23</th>\n",
       "      <td>2017-02-04T16:04:11-05:00</td>\n",
       "      <td>1486242251606</td>\n",
       "      <td>1</td>\n",
       "      <td>0</td>\n",
       "      <td>32</td>\n",
       "      <td>response_freq</td>\n",
       "      <td>2017-02-04 21:04:11.606</td>\n",
       "      <td>28745.0</td>\n",
       "      <td>0.0</td>\n",
       "    </tr>\n",
       "    <tr>\n",
       "      <th>6</th>\n",
       "      <td>2017-02-04T16:04:11-05:00</td>\n",
       "      <td>1486242251081</td>\n",
       "      <td>0</td>\n",
       "      <td>F4</td>\n",
       "      <td>2</td>\n",
       "      <td>stimulus_freq</td>\n",
       "      <td>2017-02-04 21:04:11.081</td>\n",
       "      <td>28220.0</td>\n",
       "      <td>0.0</td>\n",
       "    </tr>\n",
       "    <tr>\n",
       "      <th>7</th>\n",
       "      <td>2017-02-04T16:04:12-05:00</td>\n",
       "      <td>1486242252451</td>\n",
       "      <td>0</td>\n",
       "      <td>F4</td>\n",
       "      <td>2</td>\n",
       "      <td>stimulus_freq</td>\n",
       "      <td>2017-02-04 21:04:12.451</td>\n",
       "      <td>29590.0</td>\n",
       "      <td>0.0</td>\n",
       "    </tr>\n",
       "    <tr>\n",
       "      <th>24</th>\n",
       "      <td>2017-02-04T16:04:12-05:00</td>\n",
       "      <td>1486242252939</td>\n",
       "      <td>1</td>\n",
       "      <td>0</td>\n",
       "      <td>32</td>\n",
       "      <td>response_freq</td>\n",
       "      <td>2017-02-04 21:04:12.939</td>\n",
       "      <td>30078.0</td>\n",
       "      <td>0.0</td>\n",
       "    </tr>\n",
       "    <tr>\n",
       "      <th>25</th>\n",
       "      <td>2017-02-04T16:04:14-05:00</td>\n",
       "      <td>1486242254929</td>\n",
       "      <td>2</td>\n",
       "      <td>0</td>\n",
       "      <td>64</td>\n",
       "      <td>response_infreq</td>\n",
       "      <td>2017-02-04 21:04:14.929</td>\n",
       "      <td>32068.0</td>\n",
       "      <td>0.0</td>\n",
       "    </tr>\n",
       "    <tr>\n",
       "      <th>8</th>\n",
       "      <td>2017-02-04T16:04:14-05:00</td>\n",
       "      <td>1486242254405</td>\n",
       "      <td>0</td>\n",
       "      <td>G5</td>\n",
       "      <td>4</td>\n",
       "      <td>stimulus_infreq</td>\n",
       "      <td>2017-02-04 21:04:14.405</td>\n",
       "      <td>31544.0</td>\n",
       "      <td>2.0</td>\n",
       "    </tr>\n",
       "    <tr>\n",
       "      <th>9</th>\n",
       "      <td>2017-02-04T16:04:16-05:00</td>\n",
       "      <td>1486242256171</td>\n",
       "      <td>0</td>\n",
       "      <td>F4</td>\n",
       "      <td>2</td>\n",
       "      <td>stimulus_freq</td>\n",
       "      <td>2017-02-04 21:04:16.171</td>\n",
       "      <td>33310.0</td>\n",
       "      <td>0.0</td>\n",
       "    </tr>\n",
       "    <tr>\n",
       "      <th>26</th>\n",
       "      <td>2017-02-04T16:04:16-05:00</td>\n",
       "      <td>1486242256632</td>\n",
       "      <td>1</td>\n",
       "      <td>0</td>\n",
       "      <td>32</td>\n",
       "      <td>response_freq</td>\n",
       "      <td>2017-02-04 21:04:16.632</td>\n",
       "      <td>33771.0</td>\n",
       "      <td>0.0</td>\n",
       "    </tr>\n",
       "    <tr>\n",
       "      <th>27</th>\n",
       "      <td>2017-02-04T16:04:18-05:00</td>\n",
       "      <td>1486242258553</td>\n",
       "      <td>1</td>\n",
       "      <td>0</td>\n",
       "      <td>32</td>\n",
       "      <td>response_freq</td>\n",
       "      <td>2017-02-04 21:04:18.553</td>\n",
       "      <td>35692.0</td>\n",
       "      <td>0.0</td>\n",
       "    </tr>\n",
       "    <tr>\n",
       "      <th>10</th>\n",
       "      <td>2017-02-04T16:04:18-05:00</td>\n",
       "      <td>1486242258146</td>\n",
       "      <td>0</td>\n",
       "      <td>F4</td>\n",
       "      <td>2</td>\n",
       "      <td>stimulus_freq</td>\n",
       "      <td>2017-02-04 21:04:18.146</td>\n",
       "      <td>35285.0</td>\n",
       "      <td>0.0</td>\n",
       "    </tr>\n",
       "    <tr>\n",
       "      <th>28</th>\n",
       "      <td>2017-02-04T16:04:20-05:00</td>\n",
       "      <td>1486242260859</td>\n",
       "      <td>1</td>\n",
       "      <td>0</td>\n",
       "      <td>32</td>\n",
       "      <td>response_freq</td>\n",
       "      <td>2017-02-04 21:04:20.859</td>\n",
       "      <td>37998.0</td>\n",
       "      <td>0.0</td>\n",
       "    </tr>\n",
       "    <tr>\n",
       "      <th>11</th>\n",
       "      <td>2017-02-04T16:04:20-05:00</td>\n",
       "      <td>1486242260413</td>\n",
       "      <td>0</td>\n",
       "      <td>F4</td>\n",
       "      <td>2</td>\n",
       "      <td>stimulus_freq</td>\n",
       "      <td>2017-02-04 21:04:20.413</td>\n",
       "      <td>37552.0</td>\n",
       "      <td>0.0</td>\n",
       "    </tr>\n",
       "    <tr>\n",
       "      <th>12</th>\n",
       "      <td>2017-02-04T16:04:22-05:00</td>\n",
       "      <td>1486242262697</td>\n",
       "      <td>0</td>\n",
       "      <td>F4</td>\n",
       "      <td>2</td>\n",
       "      <td>stimulus_freq</td>\n",
       "      <td>2017-02-04 21:04:22.697</td>\n",
       "      <td>39836.0</td>\n",
       "      <td>0.0</td>\n",
       "    </tr>\n",
       "    <tr>\n",
       "      <th>29</th>\n",
       "      <td>2017-02-04T16:04:23-05:00</td>\n",
       "      <td>1486242263182</td>\n",
       "      <td>1</td>\n",
       "      <td>0</td>\n",
       "      <td>32</td>\n",
       "      <td>response_freq</td>\n",
       "      <td>2017-02-04 21:04:23.182</td>\n",
       "      <td>40321.0</td>\n",
       "      <td>0.0</td>\n",
       "    </tr>\n",
       "    <tr>\n",
       "      <th>13</th>\n",
       "      <td>2017-02-04T16:04:24-05:00</td>\n",
       "      <td>1486242264968</td>\n",
       "      <td>0</td>\n",
       "      <td>F4</td>\n",
       "      <td>2</td>\n",
       "      <td>stimulus_freq</td>\n",
       "      <td>2017-02-04 21:04:24.968</td>\n",
       "      <td>42107.0</td>\n",
       "      <td>0.0</td>\n",
       "    </tr>\n",
       "    <tr>\n",
       "      <th>30</th>\n",
       "      <td>2017-02-04T16:04:25-05:00</td>\n",
       "      <td>1486242265448</td>\n",
       "      <td>1</td>\n",
       "      <td>0</td>\n",
       "      <td>32</td>\n",
       "      <td>response_freq</td>\n",
       "      <td>2017-02-04 21:04:25.448</td>\n",
       "      <td>42587.0</td>\n",
       "      <td>0.0</td>\n",
       "    </tr>\n",
       "    <tr>\n",
       "      <th>14</th>\n",
       "      <td>2017-02-04T16:04:26-05:00</td>\n",
       "      <td>1486242266906</td>\n",
       "      <td>0</td>\n",
       "      <td>G5</td>\n",
       "      <td>4</td>\n",
       "      <td>stimulus_infreq</td>\n",
       "      <td>2017-02-04 21:04:26.906</td>\n",
       "      <td>44045.0</td>\n",
       "      <td>2.0</td>\n",
       "    </tr>\n",
       "    <tr>\n",
       "      <th>31</th>\n",
       "      <td>2017-02-04T16:04:27-05:00</td>\n",
       "      <td>1486242267379</td>\n",
       "      <td>2</td>\n",
       "      <td>0</td>\n",
       "      <td>64</td>\n",
       "      <td>response_infreq</td>\n",
       "      <td>2017-02-04 21:04:27.379</td>\n",
       "      <td>44518.0</td>\n",
       "      <td>0.0</td>\n",
       "    </tr>\n",
       "    <tr>\n",
       "      <th>15</th>\n",
       "      <td>2017-02-04T16:04:28-05:00</td>\n",
       "      <td>1486242268654</td>\n",
       "      <td>0</td>\n",
       "      <td>F4</td>\n",
       "      <td>2</td>\n",
       "      <td>stimulus_freq</td>\n",
       "      <td>2017-02-04 21:04:28.654</td>\n",
       "      <td>45793.0</td>\n",
       "      <td>0.0</td>\n",
       "    </tr>\n",
       "    <tr>\n",
       "      <th>32</th>\n",
       "      <td>2017-02-04T16:04:29-05:00</td>\n",
       "      <td>1486242269149</td>\n",
       "      <td>1</td>\n",
       "      <td>0</td>\n",
       "      <td>32</td>\n",
       "      <td>response_freq</td>\n",
       "      <td>2017-02-04 21:04:29.149</td>\n",
       "      <td>46288.0</td>\n",
       "      <td>0.0</td>\n",
       "    </tr>\n",
       "    <tr>\n",
       "      <th>16</th>\n",
       "      <td>2017-02-04T16:04:30-05:00</td>\n",
       "      <td>1486242270128</td>\n",
       "      <td>0</td>\n",
       "      <td>F4</td>\n",
       "      <td>2</td>\n",
       "      <td>stimulus_freq</td>\n",
       "      <td>2017-02-04 21:04:30.128</td>\n",
       "      <td>47267.0</td>\n",
       "      <td>0.0</td>\n",
       "    </tr>\n",
       "    <tr>\n",
       "      <th>33</th>\n",
       "      <td>2017-02-04T16:04:30-05:00</td>\n",
       "      <td>1486242270563</td>\n",
       "      <td>1</td>\n",
       "      <td>0</td>\n",
       "      <td>32</td>\n",
       "      <td>response_freq</td>\n",
       "      <td>2017-02-04 21:04:30.563</td>\n",
       "      <td>47702.0</td>\n",
       "      <td>0.0</td>\n",
       "    </tr>\n",
       "  </tbody>\n",
       "</table>\n",
       "</div>"
      ],
      "text/plain": [
       "                         time       unixtime  resp tone  ecode  \\\n",
       "0   2017-02-04T16:03:58-05:00  1486242238724     0   F4      2   \n",
       "17  2017-02-04T16:03:59-05:00  1486242239251     1    0     32   \n",
       "1   2017-02-04T16:04:00-05:00  1486242240915     0   F4      2   \n",
       "18  2017-02-04T16:04:01-05:00  1486242241406     1    0     32   \n",
       "2   2017-02-04T16:04:02-05:00  1486242242883     0   F4      2   \n",
       "19  2017-02-04T16:04:03-05:00  1486242243344     1    0     32   \n",
       "3   2017-02-04T16:04:04-05:00  1486242244966     0   F4      2   \n",
       "20  2017-02-04T16:04:05-05:00  1486242245340     1    0     32   \n",
       "21  2017-02-04T16:04:07-05:00  1486242247621     1    0     32   \n",
       "4   2017-02-04T16:04:07-05:00  1486242247164     0   F4      2   \n",
       "22  2017-02-04T16:04:09-05:00  1486242249671     2    0     64   \n",
       "5   2017-02-04T16:04:09-05:00  1486242249170     0   G5      4   \n",
       "23  2017-02-04T16:04:11-05:00  1486242251606     1    0     32   \n",
       "6   2017-02-04T16:04:11-05:00  1486242251081     0   F4      2   \n",
       "7   2017-02-04T16:04:12-05:00  1486242252451     0   F4      2   \n",
       "24  2017-02-04T16:04:12-05:00  1486242252939     1    0     32   \n",
       "25  2017-02-04T16:04:14-05:00  1486242254929     2    0     64   \n",
       "8   2017-02-04T16:04:14-05:00  1486242254405     0   G5      4   \n",
       "9   2017-02-04T16:04:16-05:00  1486242256171     0   F4      2   \n",
       "26  2017-02-04T16:04:16-05:00  1486242256632     1    0     32   \n",
       "27  2017-02-04T16:04:18-05:00  1486242258553     1    0     32   \n",
       "10  2017-02-04T16:04:18-05:00  1486242258146     0   F4      2   \n",
       "28  2017-02-04T16:04:20-05:00  1486242260859     1    0     32   \n",
       "11  2017-02-04T16:04:20-05:00  1486242260413     0   F4      2   \n",
       "12  2017-02-04T16:04:22-05:00  1486242262697     0   F4      2   \n",
       "29  2017-02-04T16:04:23-05:00  1486242263182     1    0     32   \n",
       "13  2017-02-04T16:04:24-05:00  1486242264968     0   F4      2   \n",
       "30  2017-02-04T16:04:25-05:00  1486242265448     1    0     32   \n",
       "14  2017-02-04T16:04:26-05:00  1486242266906     0   G5      4   \n",
       "31  2017-02-04T16:04:27-05:00  1486242267379     2    0     64   \n",
       "15  2017-02-04T16:04:28-05:00  1486242268654     0   F4      2   \n",
       "32  2017-02-04T16:04:29-05:00  1486242269149     1    0     32   \n",
       "16  2017-02-04T16:04:30-05:00  1486242270128     0   F4      2   \n",
       "33  2017-02-04T16:04:30-05:00  1486242270563     1    0     32   \n",
       "\n",
       "              label                datetime  latency  tonef  \n",
       "0     stimulus_freq 2017-02-04 21:03:58.724  15863.0    0.0  \n",
       "17    response_freq 2017-02-04 21:03:59.251  16390.0    0.0  \n",
       "1     stimulus_freq 2017-02-04 21:04:00.915  18054.0    0.0  \n",
       "18    response_freq 2017-02-04 21:04:01.406  18545.0    0.0  \n",
       "2     stimulus_freq 2017-02-04 21:04:02.883  20022.0    0.0  \n",
       "19    response_freq 2017-02-04 21:04:03.344  20483.0    0.0  \n",
       "3     stimulus_freq 2017-02-04 21:04:04.966  22105.0    0.0  \n",
       "20    response_freq 2017-02-04 21:04:05.340  22479.0    0.0  \n",
       "21    response_freq 2017-02-04 21:04:07.621  24760.0    0.0  \n",
       "4     stimulus_freq 2017-02-04 21:04:07.164  24303.0    0.0  \n",
       "22  response_infreq 2017-02-04 21:04:09.671  26810.0    0.0  \n",
       "5   stimulus_infreq 2017-02-04 21:04:09.170  26309.0    2.0  \n",
       "23    response_freq 2017-02-04 21:04:11.606  28745.0    0.0  \n",
       "6     stimulus_freq 2017-02-04 21:04:11.081  28220.0    0.0  \n",
       "7     stimulus_freq 2017-02-04 21:04:12.451  29590.0    0.0  \n",
       "24    response_freq 2017-02-04 21:04:12.939  30078.0    0.0  \n",
       "25  response_infreq 2017-02-04 21:04:14.929  32068.0    0.0  \n",
       "8   stimulus_infreq 2017-02-04 21:04:14.405  31544.0    2.0  \n",
       "9     stimulus_freq 2017-02-04 21:04:16.171  33310.0    0.0  \n",
       "26    response_freq 2017-02-04 21:04:16.632  33771.0    0.0  \n",
       "27    response_freq 2017-02-04 21:04:18.553  35692.0    0.0  \n",
       "10    stimulus_freq 2017-02-04 21:04:18.146  35285.0    0.0  \n",
       "28    response_freq 2017-02-04 21:04:20.859  37998.0    0.0  \n",
       "11    stimulus_freq 2017-02-04 21:04:20.413  37552.0    0.0  \n",
       "12    stimulus_freq 2017-02-04 21:04:22.697  39836.0    0.0  \n",
       "29    response_freq 2017-02-04 21:04:23.182  40321.0    0.0  \n",
       "13    stimulus_freq 2017-02-04 21:04:24.968  42107.0    0.0  \n",
       "30    response_freq 2017-02-04 21:04:25.448  42587.0    0.0  \n",
       "14  stimulus_infreq 2017-02-04 21:04:26.906  44045.0    2.0  \n",
       "31  response_infreq 2017-02-04 21:04:27.379  44518.0    0.0  \n",
       "15    stimulus_freq 2017-02-04 21:04:28.654  45793.0    0.0  \n",
       "32    response_freq 2017-02-04 21:04:29.149  46288.0    0.0  \n",
       "16    stimulus_freq 2017-02-04 21:04:30.128  47267.0    0.0  \n",
       "33    response_freq 2017-02-04 21:04:30.563  47702.0    0.0  "
      ]
     },
     "execution_count": 69,
     "metadata": {},
     "output_type": "execute_result"
    }
   ],
   "source": [
    "resp"
   ]
  },
  {
   "cell_type": "code",
   "execution_count": 73,
   "metadata": {
    "collapsed": false
   },
   "outputs": [],
   "source": [
    "basedir = os.path.dirname(path_resp)\n",
    "resp[['time', 'ecode', 'label', 'latency']].to_csv(basedir + '/resp_events.txt')"
   ]
  },
  {
   "cell_type": "code",
   "execution_count": null,
   "metadata": {
    "collapsed": false
   },
   "outputs": [],
   "source": [
    "resp.iloc[0]"
   ]
  },
  {
   "cell_type": "code",
   "execution_count": null,
   "metadata": {
    "collapsed": false
   },
   "outputs": [],
   "source": [
    "bci['time'][0]"
   ]
  },
  {
   "cell_type": "code",
   "execution_count": null,
   "metadata": {
    "collapsed": false
   },
   "outputs": [],
   "source": [
    "int(resp['time'][0]) - int(bci['time'][0])"
   ]
  },
  {
   "cell_type": "code",
   "execution_count": null,
   "metadata": {
    "collapsed": false
   },
   "outputs": [],
   "source": [
    "len(bci)"
   ]
  },
  {
   "cell_type": "code",
   "execution_count": null,
   "metadata": {
    "collapsed": false
   },
   "outputs": [],
   "source": [
    "resp['time'] = pd.Series(resp['time'], dtype='int64') # Converting to int to allow for indexing safely\n",
    "bci['time'] = pd.Series(bci['time'], dtype='int64')"
   ]
  },
  {
   "cell_type": "code",
   "execution_count": null,
   "metadata": {
    "collapsed": false
   },
   "outputs": [],
   "source": [
    "bci"
   ]
  },
  {
   "cell_type": "code",
   "execution_count": null,
   "metadata": {
    "collapsed": true
   },
   "outputs": [],
   "source": [
    "mid = len(bci) // 2\n",
    "bci2 = bci.iloc[mid-100:mid+100]"
   ]
  },
  {
   "cell_type": "code",
   "execution_count": null,
   "metadata": {
    "collapsed": false
   },
   "outputs": [],
   "source": [
    "# bci2.merge(resp, 'outer', on='time', sort=True)"
   ]
  },
  {
   "cell_type": "code",
   "execution_count": null,
   "metadata": {
    "collapsed": true
   },
   "outputs": [],
   "source": [
    "# bci.merge(resp, 'outer', on='time', sort=True).to_csv('testmerge.csv')\n",
    "mframe = pd.merge_asof(bci, resp, on='time', allow_exact_matches=False)"
   ]
  },
  {
   "cell_type": "code",
   "execution_count": null,
   "metadata": {
    "collapsed": false
   },
   "outputs": [],
   "source": [
    "mframe"
   ]
  },
  {
   "cell_type": "code",
   "execution_count": null,
   "metadata": {
    "collapsed": false
   },
   "outputs": [],
   "source": [
    "mframe['dtone'] = mframe['tonef'].diff().fillna(0)\n",
    "mframe['oddball'] = mframe['dtone'] == 2\n",
    "mframe.drop(['a', 'b', 'c', 'dtone'], axis=1, inplace=True)"
   ]
  },
  {
   "cell_type": "code",
   "execution_count": null,
   "metadata": {
    "collapsed": false
   },
   "outputs": [],
   "source": [
    "mframe.to_csv('testmerge.csv')\n",
    "print(mframe.shape, bci.shape)"
   ]
  },
  {
   "cell_type": "code",
   "execution_count": null,
   "metadata": {
    "collapsed": false
   },
   "outputs": [],
   "source": [
    "resp['tone'].dtype"
   ]
  },
  {
   "cell_type": "code",
   "execution_count": null,
   "metadata": {
    "collapsed": true
   },
   "outputs": [],
   "source": [
    "import os\n",
    "orig = os.getcwd()"
   ]
  },
  {
   "cell_type": "code",
   "execution_count": null,
   "metadata": {
    "collapsed": false
   },
   "outputs": [],
   "source": [
    "erp_index = mframe[mframe['oddball']].index\n",
    "for el in erp_index:\n",
    "    print(el)"
   ]
  },
  {
   "cell_type": "code",
   "execution_count": null,
   "metadata": {
    "collapsed": true
   },
   "outputs": [],
   "source": []
  },
  {
   "cell_type": "code",
   "execution_count": null,
   "metadata": {
    "collapsed": true
   },
   "outputs": [],
   "source": [
    "sampleRate = 250 # Hz\n",
    "erpTime = 1000 # sec\n",
    "erp_window = 1000 # ms"
   ]
  },
  {
   "cell_type": "code",
   "execution_count": null,
   "metadata": {
    "collapsed": false
   },
   "outputs": [],
   "source": [
    "mframe.iloc[erp_index[0]:erp_index[0]+erp_window]"
   ]
  },
  {
   "cell_type": "code",
   "execution_count": null,
   "metadata": {
    "collapsed": true
   },
   "outputs": [],
   "source": [
    "erps = []\n",
    "for idx in erp_index:\n",
    "    erps.append(mframe[chan_columns].iloc[idx:idx+erp_window])"
   ]
  },
  {
   "cell_type": "code",
   "execution_count": null,
   "metadata": {
    "collapsed": false
   },
   "outputs": [],
   "source": [
    "erps[0].as_matrix()"
   ]
  },
  {
   "cell_type": "code",
   "execution_count": null,
   "metadata": {
    "collapsed": false
   },
   "outputs": [],
   "source": [
    "meta_frame = np.zeros((len(erps), erps[0].shape[0], erps[1].shape[1]))\n",
    "meta_frame.shape"
   ]
  },
  {
   "cell_type": "code",
   "execution_count": null,
   "metadata": {
    "collapsed": true
   },
   "outputs": [],
   "source": [
    "for i, item in enumerate(erps):\n",
    "    meta_frame[i] = np.array(item)"
   ]
  },
  {
   "cell_type": "code",
   "execution_count": null,
   "metadata": {
    "collapsed": false
   },
   "outputs": [],
   "source": [
    "meta_frame.shape"
   ]
  },
  {
   "cell_type": "code",
   "execution_count": null,
   "metadata": {
    "collapsed": false
   },
   "outputs": [],
   "source": [
    "erp_mean = meta_frame.mean(axis=0)\n",
    "erp_mean.shape"
   ]
  },
  {
   "cell_type": "code",
   "execution_count": null,
   "metadata": {
    "collapsed": false
   },
   "outputs": [],
   "source": [
    "erp_mean.mean(axis=1).shape"
   ]
  },
  {
   "cell_type": "code",
   "execution_count": null,
   "metadata": {
    "collapsed": false
   },
   "outputs": [],
   "source": [
    "p300 = erp_mean.mean(axis=1)\n",
    "plt.plot(p300)"
   ]
  },
  {
   "cell_type": "code",
   "execution_count": null,
   "metadata": {
    "collapsed": false
   },
   "outputs": [],
   "source": [
    "def butter_lowpass_filter(data, cutoff, fs=1., order=1, axis=0, analog=False):\n",
    "    # todo: add option to filtfilt or lfilter\n",
    "    \"\"\"\n",
    "    Apply a digital Butterworth low-pass filter.\n",
    "    :param data: array-like\n",
    "    :param cutoff: Critical frequency, Hz\n",
    "    :param fs: Sampling freqency, Hz\n",
    "    :param order: Order of\n",
    "    :param axis: ndarray axis, 0='long' axis, 1='row' axis\n",
    "    :return:\n",
    "    \"\"\"\n",
    "    nyquistFreqInRads = (2*np.pi*fs)/2\n",
    "    Wn = 2*np.pi*cutoff / (nyquistFreqInRads)\n",
    "    b, a = signal.butter(order, Wn, btype='low', analog=analog)\n",
    "    y = signal.filtfilt(b, a, data, axis=axis)\n",
    "    return y"
   ]
  },
  {
   "cell_type": "code",
   "execution_count": null,
   "metadata": {
    "collapsed": false
   },
   "outputs": [],
   "source": [
    "p300f = butter_lowpass_filter(p300, 0.25, 250)\n",
    "plt.plot(p300)\n",
    "plt.plot(p300f)"
   ]
  },
  {
   "cell_type": "code",
   "execution_count": null,
   "metadata": {
    "collapsed": false
   },
   "outputs": [],
   "source": [
    "p300_detrend = p300-p300f"
   ]
  },
  {
   "cell_type": "code",
   "execution_count": null,
   "metadata": {
    "collapsed": false
   },
   "outputs": [],
   "source": [
    "plt.plot(p300_detrend)"
   ]
  },
  {
   "cell_type": "code",
   "execution_count": null,
   "metadata": {
    "collapsed": false
   },
   "outputs": [],
   "source": [
    "plt.plot(butter_lowpass_filter(p300_detrend, 10, 250))"
   ]
  },
  {
   "cell_type": "code",
   "execution_count": null,
   "metadata": {
    "collapsed": false
   },
   "outputs": [],
   "source": [
    "meta_p3s = meta_frame.mean(axis=0)"
   ]
  },
  {
   "cell_type": "code",
   "execution_count": null,
   "metadata": {
    "collapsed": false
   },
   "outputs": [],
   "source": [
    "meta_detrend = meta_p3s - butter_lowpass_filter(meta_p3s, .25, 250, axis=0)\n",
    "plt.plot(meta_detrend)"
   ]
  },
  {
   "cell_type": "code",
   "execution_count": null,
   "metadata": {
    "collapsed": true
   },
   "outputs": [],
   "source": [
    "meta_detrend[:,3] *= -1"
   ]
  },
  {
   "cell_type": "code",
   "execution_count": null,
   "metadata": {
    "collapsed": false
   },
   "outputs": [],
   "source": [
    "plt.plot(meta_detrend)"
   ]
  },
  {
   "cell_type": "code",
   "execution_count": null,
   "metadata": {
    "collapsed": false
   },
   "outputs": [],
   "source": [
    "plt.plot(butter_lowpass_filter(meta_detrend, 10, 250))\n",
    "chan=7\n",
    "plt.plot(butter_lowpass_filter(meta_detrend[:,chan], 10, 250), 'c')\n",
    "plt.plot(butter_lowpass_filter(meta_detrend[:,chan], 10, 250), 'k--')\n",
    "plt.legend(range(8))"
   ]
  },
  {
   "cell_type": "code",
   "execution_count": null,
   "metadata": {
    "collapsed": true
   },
   "outputs": [],
   "source": []
  },
  {
   "cell_type": "code",
   "execution_count": null,
   "metadata": {
    "collapsed": false
   },
   "outputs": [],
   "source": [
    "plt.plot(butter_lowpass_filter(meta_detrend.mean(axis=1), 15, 250))\n",
    "plt.plot(meta_detrend[:,0]*0)"
   ]
  },
  {
   "cell_type": "code",
   "execution_count": null,
   "metadata": {
    "collapsed": true
   },
   "outputs": [],
   "source": []
  }
 ],
 "metadata": {
  "kernelspec": {
   "display_name": "Python 3",
   "language": "python",
   "name": "python3"
  },
  "language_info": {
   "codemirror_mode": {
    "name": "ipython",
    "version": 3
   },
   "file_extension": ".py",
   "mimetype": "text/x-python",
   "name": "python",
   "nbconvert_exporter": "python",
   "pygments_lexer": "ipython3",
   "version": "3.5.2"
  }
 },
 "nbformat": 4,
 "nbformat_minor": 2
}
