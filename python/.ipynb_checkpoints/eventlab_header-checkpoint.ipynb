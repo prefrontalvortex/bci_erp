{
 "cells": [
  {
   "cell_type": "code",
   "execution_count": 1,
   "metadata": {
    "collapsed": false
   },
   "outputs": [],
   "source": [
    "%matplotlib inline"
   ]
  },
  {
   "cell_type": "code",
   "execution_count": 13,
   "metadata": {
    "collapsed": false
   },
   "outputs": [],
   "source": [
    "import numpy as np, pandas as pd\n",
    "import matplotlib.pyplot as plt\n",
    "from scipy import signal\n",
    "import os\n",
    "import re\n",
    "from datetime import datetime\n",
    "import pytz\n",
    "from tabulate import tabulate"
   ]
  },
  {
   "cell_type": "code",
   "execution_count": 271,
   "metadata": {
    "collapsed": false
   },
   "outputs": [
    {
     "data": {
      "text/html": [
       "<div>\n",
       "<table border=\"1\" class=\"dataframe\">\n",
       "  <thead>\n",
       "    <tr style=\"text-align: right;\">\n",
       "      <th></th>\n",
       "      <th>isotime</th>\n",
       "      <th>unixtime</th>\n",
       "      <th>resp</th>\n",
       "      <th>tone</th>\n",
       "      <th>type</th>\n",
       "      <th>label</th>\n",
       "    </tr>\n",
       "  </thead>\n",
       "  <tbody>\n",
       "    <tr>\n",
       "      <th>0</th>\n",
       "      <td>2017-02-05T15:02:45.234-05:00</td>\n",
       "      <td>1486324965234</td>\n",
       "      <td>0</td>\n",
       "      <td>0</td>\n",
       "      <td>254</td>\n",
       "      <td>start experiment</td>\n",
       "    </tr>\n",
       "    <tr>\n",
       "      <th>1</th>\n",
       "      <td>2017-02-05T15:02:48.243-05:00</td>\n",
       "      <td>1486324968243</td>\n",
       "      <td>0</td>\n",
       "      <td>F4</td>\n",
       "      <td>4</td>\n",
       "      <td>stimulus_freq</td>\n",
       "    </tr>\n",
       "    <tr>\n",
       "      <th>2</th>\n",
       "      <td>2017-02-05T15:02:48.720-05:00</td>\n",
       "      <td>1486324968720</td>\n",
       "      <td>1</td>\n",
       "      <td>0</td>\n",
       "      <td>8</td>\n",
       "      <td>response_freq</td>\n",
       "    </tr>\n",
       "    <tr>\n",
       "      <th>3</th>\n",
       "      <td>2017-02-05T15:02:50.241-05:00</td>\n",
       "      <td>1486324970241</td>\n",
       "      <td>0</td>\n",
       "      <td>G5</td>\n",
       "      <td>6</td>\n",
       "      <td>stimulus_infreq</td>\n",
       "    </tr>\n",
       "    <tr>\n",
       "      <th>4</th>\n",
       "      <td>2017-02-05T15:02:50.839-05:00</td>\n",
       "      <td>1486324970839</td>\n",
       "      <td>2</td>\n",
       "      <td>0</td>\n",
       "      <td>10</td>\n",
       "      <td>response_infreq</td>\n",
       "    </tr>\n",
       "  </tbody>\n",
       "</table>\n",
       "</div>"
      ],
      "text/plain": [
       "                         isotime       unixtime  resp tone  type  \\\n",
       "0  2017-02-05T15:02:45.234-05:00  1486324965234     0    0   254   \n",
       "1  2017-02-05T15:02:48.243-05:00  1486324968243     0   F4     4   \n",
       "2  2017-02-05T15:02:48.720-05:00  1486324968720     1    0     8   \n",
       "3  2017-02-05T15:02:50.241-05:00  1486324970241     0   G5     6   \n",
       "4  2017-02-05T15:02:50.839-05:00  1486324970839     2    0    10   \n",
       "\n",
       "              label  \n",
       "0  start experiment  \n",
       "1     stimulus_freq  \n",
       "2     response_freq  \n",
       "3   stimulus_infreq  \n",
       "4   response_infreq  "
      ]
     },
     "execution_count": 271,
     "metadata": {},
     "output_type": "execute_result"
    }
   ],
   "source": [
    "path_resp = '/home/mike/w/bci_erp/python/sampleData/run9/oddball_run_2017-02-05_15-02-45.csv'\n",
    "# path_2 = '/home/mike/w/bci_erp/python/sampleData/oddball_run_2017-02-04_13-02-08.txt'\n",
    "resp = pd.read_csv(path_resp)\n",
    "# resp.columns = ['time', 'unixtime', 'resp', 'tone', 'ecode', 'label']\n",
    "resp['unixtime'] = pd.to_numeric(resp['unixtime'])\n",
    "resp.head()"
   ]
  },
  {
   "cell_type": "code",
   "execution_count": 272,
   "metadata": {
    "collapsed": false
   },
   "outputs": [],
   "source": [
    "# pd.to_datetime(resp['unixtime']/1000, unit='s')"
   ]
  },
  {
   "cell_type": "code",
   "execution_count": 273,
   "metadata": {
    "collapsed": false
   },
   "outputs": [
    {
     "name": "stderr",
     "output_type": "stream",
     "text": [
      "/home/mike/ve/erp/lib/python3.5/site-packages/ipykernel/__main__.py:2: ParserWarning: Falling back to the 'python' engine because the 'c' engine does not support regex separators (separators > 1 char and different from '\\s+' are interpreted as regex); you can avoid this warning by specifying engine='python'.\n",
      "  from ipykernel import kernelapp as app\n"
     ]
    },
    {
     "data": {
      "text/html": [
       "<div>\n",
       "<table border=\"1\" class=\"dataframe\">\n",
       "  <thead>\n",
       "    <tr style=\"text-align: right;\">\n",
       "      <th></th>\n",
       "      <th>ticks</th>\n",
       "      <th>1</th>\n",
       "      <th>2</th>\n",
       "      <th>3</th>\n",
       "      <th>4</th>\n",
       "      <th>5</th>\n",
       "      <th>6</th>\n",
       "      <th>7</th>\n",
       "      <th>8</th>\n",
       "      <th>a</th>\n",
       "      <th>b</th>\n",
       "      <th>c</th>\n",
       "      <th>unixtime</th>\n",
       "    </tr>\n",
       "  </thead>\n",
       "  <tbody>\n",
       "    <tr>\n",
       "      <th>0</th>\n",
       "      <td>2</td>\n",
       "      <td>-38.74</td>\n",
       "      <td>-43254.51</td>\n",
       "      <td>-5822.72</td>\n",
       "      <td>21606.78</td>\n",
       "      <td>-13614.67</td>\n",
       "      <td>567.69</td>\n",
       "      <td>-73030.12</td>\n",
       "      <td>-50432.22</td>\n",
       "      <td>0.0</td>\n",
       "      <td>0.0</td>\n",
       "      <td>0.0</td>\n",
       "      <td>1.486325e+12</td>\n",
       "    </tr>\n",
       "    <tr>\n",
       "      <th>1</th>\n",
       "      <td>3</td>\n",
       "      <td>-104.29</td>\n",
       "      <td>-43376.00</td>\n",
       "      <td>-5807.01</td>\n",
       "      <td>21603.34</td>\n",
       "      <td>-13660.63</td>\n",
       "      <td>556.92</td>\n",
       "      <td>-73994.53</td>\n",
       "      <td>-50476.85</td>\n",
       "      <td>0.0</td>\n",
       "      <td>0.0</td>\n",
       "      <td>0.0</td>\n",
       "      <td>1.486325e+12</td>\n",
       "    </tr>\n",
       "    <tr>\n",
       "      <th>2</th>\n",
       "      <td>4</td>\n",
       "      <td>-112.47</td>\n",
       "      <td>-43370.86</td>\n",
       "      <td>-5852.40</td>\n",
       "      <td>21568.18</td>\n",
       "      <td>-13696.54</td>\n",
       "      <td>520.84</td>\n",
       "      <td>-72999.34</td>\n",
       "      <td>-50487.52</td>\n",
       "      <td>0.0</td>\n",
       "      <td>0.0</td>\n",
       "      <td>0.0</td>\n",
       "      <td>1.486325e+12</td>\n",
       "    </tr>\n",
       "    <tr>\n",
       "      <th>3</th>\n",
       "      <td>5</td>\n",
       "      <td>-45.26</td>\n",
       "      <td>-43233.19</td>\n",
       "      <td>-5872.09</td>\n",
       "      <td>21553.85</td>\n",
       "      <td>-13671.31</td>\n",
       "      <td>509.87</td>\n",
       "      <td>-71929.90</td>\n",
       "      <td>-50443.57</td>\n",
       "      <td>0.0</td>\n",
       "      <td>0.0</td>\n",
       "      <td>0.0</td>\n",
       "      <td>1.486325e+12</td>\n",
       "    </tr>\n",
       "    <tr>\n",
       "      <th>4</th>\n",
       "      <td>6</td>\n",
       "      <td>-28.34</td>\n",
       "      <td>-43218.15</td>\n",
       "      <td>-5820.48</td>\n",
       "      <td>21590.76</td>\n",
       "      <td>-13627.68</td>\n",
       "      <td>545.72</td>\n",
       "      <td>-72789.57</td>\n",
       "      <td>-50428.13</td>\n",
       "      <td>0.0</td>\n",
       "      <td>0.0</td>\n",
       "      <td>0.0</td>\n",
       "      <td>1.486325e+12</td>\n",
       "    </tr>\n",
       "  </tbody>\n",
       "</table>\n",
       "</div>"
      ],
      "text/plain": [
       "   ticks        1         2        3         4         5       6         7  \\\n",
       "0      2   -38.74 -43254.51 -5822.72  21606.78 -13614.67  567.69 -73030.12   \n",
       "1      3  -104.29 -43376.00 -5807.01  21603.34 -13660.63  556.92 -73994.53   \n",
       "2      4  -112.47 -43370.86 -5852.40  21568.18 -13696.54  520.84 -72999.34   \n",
       "3      5   -45.26 -43233.19 -5872.09  21553.85 -13671.31  509.87 -71929.90   \n",
       "4      6   -28.34 -43218.15 -5820.48  21590.76 -13627.68  545.72 -72789.57   \n",
       "\n",
       "          8    a    b    c      unixtime  \n",
       "0 -50432.22  0.0  0.0  0.0  1.486325e+12  \n",
       "1 -50476.85  0.0  0.0  0.0  1.486325e+12  \n",
       "2 -50487.52  0.0  0.0  0.0  1.486325e+12  \n",
       "3 -50443.57  0.0  0.0  0.0  1.486325e+12  \n",
       "4 -50428.13  0.0  0.0  0.0  1.486325e+12  "
      ]
     },
     "execution_count": 273,
     "metadata": {},
     "output_type": "execute_result"
    }
   ],
   "source": [
    "path_bci = '/home/mike/w/bci_erp/python/sampleData/run9/OpenBCI-RAW-ob_2017-02-05_15-00-49.txt'\n",
    "bci = pd.read_csv(path_bci, sep=', ', skiprows=6, header=None)\n",
    "chan_columns = [str(i) for i in range(1,9)]\n",
    "bci.columns = ['ticks'] + chan_columns + ['a', 'b', 'c', 'unixtime']\n",
    "bci['unixtime'] = pd.to_numeric(bci['unixtime'])\n",
    "bci.head()"
   ]
  },
  {
   "cell_type": "markdown",
   "metadata": {},
   "source": [
    "watch out for stupid windows backslashes"
   ]
  },
  {
   "cell_type": "code",
   "execution_count": 3,
   "metadata": {
    "collapsed": false
   },
   "outputs": [],
   "source": [
    "example_header = r\"\"\"\n",
    "#  Non-editable header begin --------------------------------------------------------------------------------\n",
    "# \n",
    "#  data format...............: continuous\n",
    "#  setname...................: S1_EEG_elist\n",
    "#  filename..................: S1_EEG.set\n",
    "#  filepath..................: C:\\Users\\mike\\Downloads\\Test_Data\\Test_Data\\S1\\\n",
    "#  nchan.....................: 16\n",
    "#  pnts......................: 1069520\n",
    "#  srate.....................: 500\n",
    "#  nevents...................: 2557\n",
    "#  generated by (bdf)........: \n",
    "#  generated by (set)........: S1_EEG_elist\n",
    "#  reported in ..............: \n",
    "#  prog Version..............: 6.1\n",
    "#  creation date.............: 03-Feb-2017 10:51:12\n",
    "#  user Account..............: \n",
    "# \n",
    "#  Non-editable header end --------------------------------------------------------------------------------\n",
    "\n",
    "\n",
    "\n",
    "\n",
    "# item\t bepoch\t  ecode\t            label\t      onset\t          diff\t     dura\tb_flags\t   a_flags\t  enable\t    bin\n",
    "#                                                 (sec)           (msec)     (msec)    (binary)   (binary)\n",
    "\"\"\""
   ]
  },
  {
   "cell_type": "code",
   "execution_count": 10,
   "metadata": {
    "collapsed": false
   },
   "outputs": [],
   "source": [
    "header_meta = '''\n",
    "#  Non-editable header begin --------------------------------------------------------------------------------\n",
    "# \n",
    "#  data format...............: {dataFormat}\n",
    "#  setname...................: {setname}\n",
    "#  filename..................: {filename}\n",
    "#  filepath..................: {filepath}\n",
    "#  nchan.....................: {nchan}\n",
    "#  pnts......................: {pnts}\n",
    "#  srate.....................: {srate}\n",
    "#  nevents...................: {nevents}\n",
    "#  generated by (bdf)........: python\n",
    "#  generated by (set)........: python\n",
    "#  reported in ..............: \n",
    "#  prog Version..............: 6.1\n",
    "#  creation date.............: {createdDate}\n",
    "#  user Account..............: {user}\n",
    "# \n",
    "#  Non-editable header end --------------------------------------------------------------------------------\n",
    "'''"
   ]
  },
  {
   "cell_type": "code",
   "execution_count": 11,
   "metadata": {
    "collapsed": true
   },
   "outputs": [],
   "source": [
    "header_cols = \"\"\"\n",
    "\n",
    "\n",
    "\n",
    "\n",
    "# item\t bepoch\t  ecode\t            label\t      onset\t          diff\t     dura\tb_flags\t   a_flags\t  enable\t    bin\n",
    "#                                                 (sec)           (msec)     (msec)    (binary)   (binary)\n",
    "\"\"\""
   ]
  },
  {
   "cell_type": "code",
   "execution_count": 12,
   "metadata": {
    "collapsed": false
   },
   "outputs": [
    {
     "name": "stdout",
     "output_type": "stream",
     "text": [
      "\n",
      "#  Non-editable header begin --------------------------------------------------------------------------------\n",
      "# \n",
      "#  data format...............: {dataFormat}\n",
      "#  setname...................: {setname}\n",
      "#  filename..................: {filename}\n",
      "#  filepath..................: {filepath}\n",
      "#  nchan.....................: {nchan}\n",
      "#  pnts......................: {pnts}\n",
      "#  srate.....................: {srate}\n",
      "#  nevents...................: {nevents}\n",
      "#  generated by (bdf)........: python\n",
      "#  generated by (set)........: python\n",
      "#  reported in ..............: \n",
      "#  prog Version..............: 6.1\n",
      "#  creation date.............: {createdDate}\n",
      "#  user Account..............: {user}\n",
      "# \n",
      "#  Non-editable header end --------------------------------------------------------------------------------\n",
      "\n",
      "\n",
      "\n",
      "\n",
      "\n",
      "# item\t bepoch\t  ecode\t            label\t      onset\t          diff\t     dura\tb_flags\t   a_flags\t  enable\t    bin\n",
      "#                                                 (sec)           (msec)     (msec)    (binary)   (binary)\n",
      "\n"
     ]
    }
   ],
   "source": [
    "print(header_meta + header_cols) "
   ]
  },
  {
   "cell_type": "markdown",
   "metadata": {},
   "source": [
    "## legend\n",
    "\n",
    "Format is fixed-width\n",
    "\n",
    "\n",
    "* item = (int) ordinal index, starts with 1\n",
    "\n",
    "* bepoch = (int) ?bin epoch? typically 0\n",
    "\n",
    "* ecode = (uint8) numerical code [0-255] which codes for type of event (aka type)\n",
    "\n",
    "* label = (str) given label, empty is \"\"\n",
    "\n",
    "* onset = (float) time from start to event (seconds) aka latency\n",
    "\n",
    "* diff = (float) time since prior event (millis)\n",
    "\n",
    "* dura = (bin8) no idea, default=00000000\n",
    "\n",
    "* b_flags = (bin8) bin flags, default=00000000\n",
    "\n",
    "* a_flags\t= (bin8) artefact flags, default=00000000\n",
    "\n",
    "* enable = (bit) 1/0 for true/false\n",
    "\n",
    "* bin = (list) List of bin numbers, empty is [       ] (7 spaces)"
   ]
  },
  {
   "cell_type": "code",
   "execution_count": 14,
   "metadata": {
    "collapsed": true
   },
   "outputs": [],
   "source": [
    "eventlist_name = '/media/mike/tera/data/erplab/Test_Data/S1/event_export02.txt'"
   ]
  },
  {
   "cell_type": "code",
   "execution_count": 37,
   "metadata": {
    "collapsed": false
   },
   "outputs": [],
   "source": [
    "eventlist_df = pd.read_fwf(eventlist_name, skiprows=28, header=None)"
   ]
  },
  {
   "cell_type": "code",
   "execution_count": 38,
   "metadata": {
    "collapsed": false
   },
   "outputs": [
    {
     "data": {
      "text/html": [
       "<div>\n",
       "<table border=\"1\" class=\"dataframe\">\n",
       "  <thead>\n",
       "    <tr style=\"text-align: right;\">\n",
       "      <th></th>\n",
       "      <th>0</th>\n",
       "      <th>1</th>\n",
       "    </tr>\n",
       "  </thead>\n",
       "  <tbody>\n",
       "    <tr>\n",
       "      <th>0</th>\n",
       "      <td>3     \\t0     \\t     12\\t              \"\"\\t   ...</td>\n",
       "      <td>]</td>\n",
       "    </tr>\n",
       "    <tr>\n",
       "      <th>1</th>\n",
       "      <td>4     \\t0     \\t      9\\t              \"\"\\t   ...</td>\n",
       "      <td>]</td>\n",
       "    </tr>\n",
       "    <tr>\n",
       "      <th>2</th>\n",
       "      <td>5     \\t0     \\t     22\\t              \"\"\\t   ...</td>\n",
       "      <td>]</td>\n",
       "    </tr>\n",
       "    <tr>\n",
       "      <th>3</th>\n",
       "      <td>6     \\t0     \\t      9\\t              \"\"\\t   ...</td>\n",
       "      <td>]</td>\n",
       "    </tr>\n",
       "    <tr>\n",
       "      <th>4</th>\n",
       "      <td>7     \\t0     \\t     22\\t              \"\"\\t   ...</td>\n",
       "      <td>]</td>\n",
       "    </tr>\n",
       "  </tbody>\n",
       "</table>\n",
       "</div>"
      ],
      "text/plain": [
       "                                                   0  1\n",
       "0  3     \\t0     \\t     12\\t              \"\"\\t   ...  ]\n",
       "1  4     \\t0     \\t      9\\t              \"\"\\t   ...  ]\n",
       "2  5     \\t0     \\t     22\\t              \"\"\\t   ...  ]\n",
       "3  6     \\t0     \\t      9\\t              \"\"\\t   ...  ]\n",
       "4  7     \\t0     \\t     22\\t              \"\"\\t   ...  ]"
      ]
     },
     "execution_count": 38,
     "metadata": {},
     "output_type": "execute_result"
    }
   ],
   "source": [
    "eventlist_df.head()"
   ]
  },
  {
   "cell_type": "code",
   "execution_count": 42,
   "metadata": {
    "collapsed": true
   },
   "outputs": [],
   "source": [
    "# well, that failed, because it's formatted horribly\n",
    "with open(eventlist_name, 'r') as infile:\n",
    "    eventlist_raw = infile.readlines()\n"
   ]
  },
  {
   "cell_type": "code",
   "execution_count": 46,
   "metadata": {
    "collapsed": false
   },
   "outputs": [],
   "source": [
    "data = eventlist_raw[26:]"
   ]
  },
  {
   "cell_type": "code",
   "execution_count": 47,
   "metadata": {
    "collapsed": false
   },
   "outputs": [
    {
     "data": {
      "text/plain": [
       "'1     \\t0     \\t     22\\t              \"\"\\t     13.0600\\t      0.00\\t    0.0\\t    00000000     00000000\\t   1\\t[       ]\\n'"
      ]
     },
     "execution_count": 47,
     "metadata": {},
     "output_type": "execute_result"
    }
   ],
   "source": [
    "data[0]"
   ]
  },
  {
   "cell_type": "code",
   "execution_count": 48,
   "metadata": {
    "collapsed": true
   },
   "outputs": [],
   "source": [
    "re_inquotes = '\\\"([\\w _\\./\\\\-]*)\\\"'"
   ]
  },
  {
   "cell_type": "code",
   "execution_count": null,
   "metadata": {
    "collapsed": true
   },
   "outputs": [],
   "source": []
  }
 ],
 "metadata": {
  "kernelspec": {
   "display_name": "Python 3",
   "language": "python",
   "name": "python3"
  },
  "language_info": {
   "codemirror_mode": {
    "name": "ipython",
    "version": 3
   },
   "file_extension": ".py",
   "mimetype": "text/x-python",
   "name": "python",
   "nbconvert_exporter": "python",
   "pygments_lexer": "ipython3",
   "version": "3.5.2"
  }
 },
 "nbformat": 4,
 "nbformat_minor": 2
}
