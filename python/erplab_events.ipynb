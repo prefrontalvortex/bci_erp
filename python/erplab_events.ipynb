{
 "cells": [
  {
   "cell_type": "code",
   "execution_count": 1,
   "metadata": {
    "collapsed": true
   },
   "outputs": [],
   "source": [
    "import numpy as np, pandas as pd"
   ]
  },
  {
   "cell_type": "code",
   "execution_count": 2,
   "metadata": {
    "collapsed": true
   },
   "outputs": [],
   "source": [
    "path = '/media/mike/tera/data/erplab/Test_Data/S1/'"
   ]
  },
  {
   "cell_type": "code",
   "execution_count": 9,
   "metadata": {
    "collapsed": false
   },
   "outputs": [
    {
     "data": {
      "text/html": [
       "<div>\n",
       "<table border=\"1\" class=\"dataframe\">\n",
       "  <thead>\n",
       "    <tr style=\"text-align: right;\">\n",
       "      <th></th>\n",
       "      <th>0</th>\n",
       "      <th>1</th>\n",
       "      <th>2</th>\n",
       "      <th>3</th>\n",
       "    </tr>\n",
       "  </thead>\n",
       "  <tbody>\n",
       "    <tr>\n",
       "      <th>0</th>\n",
       "      <td>22</td>\n",
       "      <td>\"Frequent_Digit\"</td>\n",
       "      <td>1</td>\n",
       "      <td>\"Frequent Category (Digit)\"</td>\n",
       "    </tr>\n",
       "    <tr>\n",
       "      <th>1</th>\n",
       "      <td>12</td>\n",
       "      <td>\"Rare_Letter\"</td>\n",
       "      <td>2</td>\n",
       "      <td>\"Rare Category (Letter)\"</td>\n",
       "    </tr>\n",
       "    <tr>\n",
       "      <th>2</th>\n",
       "      <td>9</td>\n",
       "      <td>\"Corr_Resp\"</td>\n",
       "      <td>[]</td>\n",
       "      <td>\"\"</td>\n",
       "    </tr>\n",
       "    <tr>\n",
       "      <th>3</th>\n",
       "      <td>8</td>\n",
       "      <td>\"Err_Resp\"</td>\n",
       "      <td>[]</td>\n",
       "      <td>\"\"</td>\n",
       "    </tr>\n",
       "  </tbody>\n",
       "</table>\n",
       "</div>"
      ],
      "text/plain": [
       "    0                 1   2                            3\n",
       "0  22  \"Frequent_Digit\"   1  \"Frequent Category (Digit)\"\n",
       "1  12     \"Rare_Letter\"   2     \"Rare Category (Letter)\"\n",
       "2   9       \"Corr_Resp\"  []                           \"\"\n",
       "3   8        \"Err_Resp\"  []                           \"\""
      ]
     },
     "execution_count": 9,
     "metadata": {},
     "output_type": "execute_result"
    }
   ],
   "source": [
    "eventfile = path + 'event_mapping_1.txt'\n",
    "# event_mapping = pd.read_csv(path + 'event_mapping_1.txt', sep=r'\\s*', header=None) # wrong!\n",
    "event_mapping = pd.read_fwf(eventfile, header=None) # correct!\n",
    "event_mapping"
   ]
  },
  {
   "cell_type": "code",
   "execution_count": 10,
   "metadata": {
    "collapsed": true
   },
   "outputs": [],
   "source": [
    "with open(eventfile, 'r') as infile:\n",
    "    data = infile.read()"
   ]
  },
  {
   "cell_type": "code",
   "execution_count": 12,
   "metadata": {
    "collapsed": false
   },
   "outputs": [
    {
     "name": "stdout",
     "output_type": "stream",
     "text": [
      "   22 \"Frequent_Digit\"     1 \"Frequent Category (Digit)\"\n",
      "   12    \"Rare_Letter\"     2 \"Rare Category (Letter)\"\n",
      "    9      \"Corr_Resp\"    []                   \"\"\n",
      "    8      \"Err_Resp\"    []                   \"\"\n",
      "\n"
     ]
    }
   ],
   "source": [
    "print(data)"
   ]
  },
  {
   "cell_type": "code",
   "execution_count": 23,
   "metadata": {
    "collapsed": false
   },
   "outputs": [
    {
     "name": "stdout",
     "output_type": "stream",
     "text": [
      "☐☐☐22☐\"Frequent_Digit\"☐☐☐☐☐1☐\"Frequent☐Category☐(Digit)\"\n",
      "☐☐☐12☐☐☐☐\"Rare_Letter\"☐☐☐☐☐2☐\"Rare☐Category☐(Letter)\"\n",
      "☐☐☐☐9☐☐☐☐☐☐\"Corr_Resp\"☐☐☐☐[]☐☐☐☐☐☐☐☐☐☐☐☐☐☐☐☐☐☐☐\"\"\n",
      "☐☐☐☐8☐☐☐☐☐☐\"Err_Resp\"☐☐☐☐[]☐☐☐☐☐☐☐☐☐☐☐☐☐☐☐☐☐☐☐\"\"\n",
      "\n"
     ]
    }
   ],
   "source": [
    "print(data.replace(' ', chr(0x2610)))"
   ]
  },
  {
   "cell_type": "code",
   "execution_count": 22,
   "metadata": {
    "collapsed": false
   },
   "outputs": [
    {
     "data": {
      "text/plain": [
       "'□'"
      ]
     },
     "execution_count": 22,
     "metadata": {},
     "output_type": "execute_result"
    }
   ],
   "source": [
    "chr(0x25a1)"
   ]
  },
  {
   "cell_type": "code",
   "execution_count": 24,
   "metadata": {
    "collapsed": true
   },
   "outputs": [],
   "source": [
    "from tabulate import tabulate\n",
    "\n",
    "def to_fwf(df, fname):\n",
    "    content = tabulate(df.values.tolist(), list(df.columns), tablefmt=\"plain\")\n",
    "    open(fname, \"w\").write(content)\n"
   ]
  },
  {
   "cell_type": "code",
   "execution_count": 26,
   "metadata": {
    "collapsed": true
   },
   "outputs": [],
   "source": [
    "to_fwf(event_mapping, path +'test_event.txt')"
   ]
  },
  {
   "cell_type": "code",
   "execution_count": null,
   "metadata": {
    "collapsed": true
   },
   "outputs": [],
   "source": []
  }
 ],
 "metadata": {
  "kernelspec": {
   "display_name": "Python 3",
   "language": "python",
   "name": "python3"
  },
  "language_info": {
   "codemirror_mode": {
    "name": "ipython",
    "version": 3
   },
   "file_extension": ".py",
   "mimetype": "text/x-python",
   "name": "python",
   "nbconvert_exporter": "python",
   "pygments_lexer": "ipython3",
   "version": "3.5.2"
  }
 },
 "nbformat": 4,
 "nbformat_minor": 2
}
