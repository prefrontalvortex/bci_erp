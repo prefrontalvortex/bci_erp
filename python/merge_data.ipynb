{
 "cells": [
  {
   "cell_type": "code",
   "execution_count": 1,
   "metadata": {
    "collapsed": true
   },
   "outputs": [],
   "source": [
    "import numpy as np, pandas as pd"
   ]
  },
  {
   "cell_type": "code",
   "execution_count": 12,
   "metadata": {
    "collapsed": false
   },
   "outputs": [],
   "source": [
    "resp = pd.read_csv('sampleData/download.csv', header=None)\n",
    "resp.columns = ['time', 'resp', 'tone']"
   ]
  },
  {
   "cell_type": "code",
   "execution_count": 8,
   "metadata": {
    "collapsed": false
   },
   "outputs": [
    {
     "name": "stderr",
     "output_type": "stream",
     "text": [
      "/home/mike/ve/ml/lib/python3.5/site-packages/ipykernel/__main__.py:1: ParserWarning: Falling back to the 'python' engine because the 'c' engine does not support regex separators (separators > 1 char and different from '\\s+' are interpreted as regex); you can avoid this warning by specifying engine='python'.\n",
      "  if __name__ == '__main__':\n"
     ]
    }
   ],
   "source": [
    "bci = pd.read_csv('sampleData/OpenBCI-RAW-2016-12-30_18-07-39.txt', sep=', ', skiprows=4, header=None)\n",
    "bci.columns = []"
   ]
  },
  {
   "cell_type": "code",
   "execution_count": 9,
   "metadata": {
    "collapsed": false
   },
   "outputs": [
    {
     "data": {
      "text/html": [
       "<div>\n",
       "<table border=\"1\" class=\"dataframe\">\n",
       "  <thead>\n",
       "    <tr style=\"text-align: right;\">\n",
       "      <th></th>\n",
       "      <th>0</th>\n",
       "      <th>1</th>\n",
       "      <th>2</th>\n",
       "      <th>3</th>\n",
       "      <th>4</th>\n",
       "      <th>5</th>\n",
       "      <th>6</th>\n",
       "      <th>7</th>\n",
       "      <th>8</th>\n",
       "      <th>9</th>\n",
       "      <th>10</th>\n",
       "      <th>11</th>\n",
       "      <th>12</th>\n",
       "    </tr>\n",
       "  </thead>\n",
       "  <tbody>\n",
       "    <tr>\n",
       "      <th>0</th>\n",
       "      <td>0</td>\n",
       "      <td>-120122.36</td>\n",
       "      <td>-113415.72</td>\n",
       "      <td>-114035.63</td>\n",
       "      <td>-117027.27</td>\n",
       "      <td>-136190.16</td>\n",
       "      <td>-148000.78</td>\n",
       "      <td>-155031.11</td>\n",
       "      <td>-131657.89</td>\n",
       "      <td>0.01</td>\n",
       "      <td>0.1</td>\n",
       "      <td>1.03</td>\n",
       "      <td>1483139272678</td>\n",
       "    </tr>\n",
       "    <tr>\n",
       "      <th>1</th>\n",
       "      <td>1</td>\n",
       "      <td>-120122.92</td>\n",
       "      <td>-113416.37</td>\n",
       "      <td>-114035.91</td>\n",
       "      <td>-117027.36</td>\n",
       "      <td>-136190.20</td>\n",
       "      <td>-148000.81</td>\n",
       "      <td>-155031.06</td>\n",
       "      <td>-131657.52</td>\n",
       "      <td>0.00</td>\n",
       "      <td>0.0</td>\n",
       "      <td>0.00</td>\n",
       "      <td>1483139272682</td>\n",
       "    </tr>\n",
       "    <tr>\n",
       "      <th>2</th>\n",
       "      <td>2</td>\n",
       "      <td>-120119.12</td>\n",
       "      <td>-113412.79</td>\n",
       "      <td>-114034.35</td>\n",
       "      <td>-117025.66</td>\n",
       "      <td>-136188.48</td>\n",
       "      <td>-147998.63</td>\n",
       "      <td>-155028.94</td>\n",
       "      <td>-131653.63</td>\n",
       "      <td>0.00</td>\n",
       "      <td>0.0</td>\n",
       "      <td>0.00</td>\n",
       "      <td>1483139272686</td>\n",
       "    </tr>\n",
       "    <tr>\n",
       "      <th>3</th>\n",
       "      <td>3</td>\n",
       "      <td>-120115.72</td>\n",
       "      <td>-113409.64</td>\n",
       "      <td>-114032.02</td>\n",
       "      <td>-117023.45</td>\n",
       "      <td>-136186.20</td>\n",
       "      <td>-147996.28</td>\n",
       "      <td>-155026.94</td>\n",
       "      <td>-131651.13</td>\n",
       "      <td>0.00</td>\n",
       "      <td>0.0</td>\n",
       "      <td>0.00</td>\n",
       "      <td>1483139272690</td>\n",
       "    </tr>\n",
       "    <tr>\n",
       "      <th>4</th>\n",
       "      <td>4</td>\n",
       "      <td>-120121.53</td>\n",
       "      <td>-113415.52</td>\n",
       "      <td>-114036.18</td>\n",
       "      <td>-117027.72</td>\n",
       "      <td>-136190.31</td>\n",
       "      <td>-148001.00</td>\n",
       "      <td>-155031.83</td>\n",
       "      <td>-131657.11</td>\n",
       "      <td>0.00</td>\n",
       "      <td>0.0</td>\n",
       "      <td>0.00</td>\n",
       "      <td>1483139272694</td>\n",
       "    </tr>\n",
       "  </tbody>\n",
       "</table>\n",
       "</div>"
      ],
      "text/plain": [
       "   0          1          2          3          4          5          6   \\\n",
       "0   0 -120122.36 -113415.72 -114035.63 -117027.27 -136190.16 -148000.78   \n",
       "1   1 -120122.92 -113416.37 -114035.91 -117027.36 -136190.20 -148000.81   \n",
       "2   2 -120119.12 -113412.79 -114034.35 -117025.66 -136188.48 -147998.63   \n",
       "3   3 -120115.72 -113409.64 -114032.02 -117023.45 -136186.20 -147996.28   \n",
       "4   4 -120121.53 -113415.52 -114036.18 -117027.72 -136190.31 -148001.00   \n",
       "\n",
       "          7          8     9    10    11             12  \n",
       "0 -155031.11 -131657.89  0.01  0.1  1.03  1483139272678  \n",
       "1 -155031.06 -131657.52  0.00  0.0  0.00  1483139272682  \n",
       "2 -155028.94 -131653.63  0.00  0.0  0.00  1483139272686  \n",
       "3 -155026.94 -131651.13  0.00  0.0  0.00  1483139272690  \n",
       "4 -155031.83 -131657.11  0.00  0.0  0.00  1483139272694  "
      ]
     },
     "execution_count": 9,
     "metadata": {},
     "output_type": "execute_result"
    }
   ],
   "source": [
    "bci.head()"
   ]
  },
  {
   "cell_type": "code",
   "execution_count": 14,
   "metadata": {
    "collapsed": false
   },
   "outputs": [
    {
     "data": {
      "text/html": [
       "<div>\n",
       "<table border=\"1\" class=\"dataframe\">\n",
       "  <thead>\n",
       "    <tr style=\"text-align: right;\">\n",
       "      <th></th>\n",
       "      <th>time</th>\n",
       "      <th>resp</th>\n",
       "      <th>tone</th>\n",
       "    </tr>\n",
       "  </thead>\n",
       "  <tbody>\n",
       "    <tr>\n",
       "      <th>0</th>\n",
       "      <td>1484171948837</td>\n",
       "      <td>0</td>\n",
       "      <td>C4</td>\n",
       "    </tr>\n",
       "    <tr>\n",
       "      <th>1</th>\n",
       "      <td>1484171949231</td>\n",
       "      <td>0</td>\n",
       "      <td>C4</td>\n",
       "    </tr>\n",
       "    <tr>\n",
       "      <th>2</th>\n",
       "      <td>1484171949631</td>\n",
       "      <td>0</td>\n",
       "      <td>C4</td>\n",
       "    </tr>\n",
       "    <tr>\n",
       "      <th>3</th>\n",
       "      <td>1484171950031</td>\n",
       "      <td>0</td>\n",
       "      <td>C4</td>\n",
       "    </tr>\n",
       "    <tr>\n",
       "      <th>4</th>\n",
       "      <td>1484171950431</td>\n",
       "      <td>0</td>\n",
       "      <td>C5</td>\n",
       "    </tr>\n",
       "    <tr>\n",
       "      <th>5</th>\n",
       "      <td>1484171950831</td>\n",
       "      <td>0</td>\n",
       "      <td>C4</td>\n",
       "    </tr>\n",
       "    <tr>\n",
       "      <th>6</th>\n",
       "      <td>1484171951231</td>\n",
       "      <td>0</td>\n",
       "      <td>C3</td>\n",
       "    </tr>\n",
       "    <tr>\n",
       "      <th>7</th>\n",
       "      <td>1484171949901</td>\n",
       "      <td>2</td>\n",
       "      <td>0</td>\n",
       "    </tr>\n",
       "    <tr>\n",
       "      <th>8</th>\n",
       "      <td>1484171950153</td>\n",
       "      <td>2</td>\n",
       "      <td>0</td>\n",
       "    </tr>\n",
       "    <tr>\n",
       "      <th>9</th>\n",
       "      <td>1484171950395</td>\n",
       "      <td>2</td>\n",
       "      <td>0</td>\n",
       "    </tr>\n",
       "    <tr>\n",
       "      <th>10</th>\n",
       "      <td>1484171950623</td>\n",
       "      <td>1</td>\n",
       "      <td>0</td>\n",
       "    </tr>\n",
       "    <tr>\n",
       "      <th>11</th>\n",
       "      <td>1484171950974</td>\n",
       "      <td>1</td>\n",
       "      <td>0</td>\n",
       "    </tr>\n",
       "    <tr>\n",
       "      <th>12</th>\n",
       "      <td>1484171951193</td>\n",
       "      <td>1</td>\n",
       "      <td>0</td>\n",
       "    </tr>\n",
       "    <tr>\n",
       "      <th>13</th>\n",
       "      <td>1484171951548</td>\n",
       "      <td>2</td>\n",
       "      <td>0</td>\n",
       "    </tr>\n",
       "  </tbody>\n",
       "</table>\n",
       "</div>"
      ],
      "text/plain": [
       "             time  resp tone\n",
       "0   1484171948837     0   C4\n",
       "1   1484171949231     0   C4\n",
       "2   1484171949631     0   C4\n",
       "3   1484171950031     0   C4\n",
       "4   1484171950431     0   C5\n",
       "5   1484171950831     0   C4\n",
       "6   1484171951231     0   C3\n",
       "7   1484171949901     2    0\n",
       "8   1484171950153     2    0\n",
       "9   1484171950395     2    0\n",
       "10  1484171950623     1    0\n",
       "11  1484171950974     1    0\n",
       "12  1484171951193     1    0\n",
       "13  1484171951548     2    0"
      ]
     },
     "execution_count": 14,
     "metadata": {},
     "output_type": "execute_result"
    }
   ],
   "source": [
    "resp"
   ]
  },
  {
   "cell_type": "code",
   "execution_count": 15,
   "metadata": {
    "collapsed": false
   },
   "outputs": [
    {
     "data": {
      "text/plain": [
       "3563"
      ]
     },
     "execution_count": 15,
     "metadata": {},
     "output_type": "execute_result"
    }
   ],
   "source": [
    "len(bci)"
   ]
  },
  {
   "cell_type": "code",
   "execution_count": null,
   "metadata": {
    "collapsed": true
   },
   "outputs": [],
   "source": []
  }
 ],
 "metadata": {
  "kernelspec": {
   "display_name": "Python 3",
   "language": "python",
   "name": "python3"
  },
  "language_info": {
   "codemirror_mode": {
    "name": "ipython",
    "version": 3
   },
   "file_extension": ".py",
   "mimetype": "text/x-python",
   "name": "python",
   "nbconvert_exporter": "python",
   "pygments_lexer": "ipython3",
   "version": "3.5.2"
  }
 },
 "nbformat": 4,
 "nbformat_minor": 2
}
